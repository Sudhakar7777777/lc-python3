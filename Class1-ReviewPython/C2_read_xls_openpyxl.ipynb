{
 "cells": [
  {
   "cell_type": "markdown",
   "metadata": {},
   "source": [
    "# Class 2 -- Reading dataset from xlsx using openpyxl"
   ]
  },
  {
   "cell_type": "code",
   "execution_count": null,
   "metadata": {},
   "outputs": [],
   "source": [
    "# Documentation and help\n",
    "# https://openpyxl.readthedocs.io/en/stable/ \n",
    "# https://openpyxl.readthedocs.io/en/stable/usage.html\n",
    "# https://openpyxl.readthedocs.io/en/stable/tutorial.html"
   ]
  },
  {
   "cell_type": "code",
   "execution_count": 1,
   "metadata": {},
   "outputs": [],
   "source": [
    "from openpyxl import load_workbook"
   ]
  },
  {
   "cell_type": "code",
   "execution_count": 2,
   "metadata": {},
   "outputs": [
    {
     "name": "stdout",
     "output_type": "stream",
     "text": [
      "Sheets: ['States', 'Countries', 'Income']\n",
      "Rows 53\n",
      "Columns 5\n"
     ]
    }
   ],
   "source": [
    "wb = load_workbook(filename=\"xls_for_python.xlsx\", read_only=True)\n",
    "print(\"Sheets:\",wb.sheetnames)\n",
    "ws = wb[\"States\"]\n",
    "row_count = ws.max_row        \n",
    "column_count = ws.max_column\n",
    "print('Rows',row_count)\n",
    "print(\"Columns\",column_count)"
   ]
  },
  {
   "cell_type": "code",
   "execution_count": 3,
   "metadata": {},
   "outputs": [
    {
     "name": "stdout",
     "output_type": "stream",
     "text": [
      "['S', 'u', 'd', 'h', 'a', 'k', 'a', 'r']\n"
     ]
    }
   ],
   "source": [
    "mystr = \"Sudhakar\"\n",
    "ss = list(mystr)\n",
    "print(ss)"
   ]
  },
  {
   "cell_type": "code",
   "execution_count": null,
   "metadata": {},
   "outputs": [],
   "source": [
    "state_name = []\n",
    "for row in ws.rows:\n",
    "    row_values = [cell.value for cell in row]\n",
    "    # print(row_values[1])\n",
    "    state_name = list(str(row_values[0]))\n",
    "    if (state_name[0] == \"C\"):\n",
    "        print(row_values[0])"
   ]
  },
  {
   "cell_type": "code",
   "execution_count": 4,
   "metadata": {},
   "outputs": [],
   "source": [
    "# Name\tCapital\tYear\tPopulation_2000\tArea\n",
    "\n",
    "from dataclasses import dataclass\n",
    "\n",
    "@dataclass\n",
    "class State:\n",
    "    name: str\n",
    "    capital: str\n",
    "    year: int\n",
    "    population: int\n",
    "    area: int"
   ]
  },
  {
   "cell_type": "code",
   "execution_count": 31,
   "metadata": {},
   "outputs": [
    {
     "name": "stdout",
     "output_type": "stream",
     "text": [
      "<class 'list'>\n",
      "50\n",
      "State(name='California', capital='Sacramento', year=1850, population=33871648, area=158693)\n"
     ]
    },
    {
     "name": "stderr",
     "output_type": "stream",
     "text": [
      "//anaconda3/lib/python3.7/site-packages/openpyxl/worksheet/header_footer.py:49: UserWarning: Cannot parse header or footer so it will be ignored\n",
      "  warn(\"\"\"Cannot parse header or footer so it will be ignored\"\"\")\n"
     ]
    }
   ],
   "source": [
    "state_sheet = wb[\"States\"]\n",
    "\n",
    "states = []\n",
    "for row in state_sheet.iter_rows(min_row=2, values_only=True):\n",
    "    if row[0] != None:\n",
    "        state = State(name=row[0],\n",
    "                 capital=row[1],\n",
    "                 year=row[2],\n",
    "                 population=row[3],\n",
    "                 area=row[4])\n",
    "        states.append(state)\n",
    "\n",
    "print(type(states))\n",
    "print(len(states))\n",
    "print(states[4])"
   ]
  },
  {
   "cell_type": "markdown",
   "metadata": {},
   "source": [
    "# Ex1: Modify the above code to list states starting with \"N\""
   ]
  },
  {
   "cell_type": "code",
   "execution_count": 10,
   "metadata": {},
   "outputs": [
    {
     "name": "stdout",
     "output_type": "stream",
     "text": [
      "Nebraska\n",
      "Nevada\n",
      "New Hampshire\n",
      "New Jersey\n",
      "New Mexico\n",
      "New York\n",
      "North Carolina\n",
      "North Dakota\n"
     ]
    }
   ],
   "source": [
    "# Your code here\n",
    "for i in range(len(states)):\n",
    "    if(states[i].name[0] == 'N'):\n",
    "        print(states[i].name)"
   ]
  },
  {
   "cell_type": "markdown",
   "metadata": {},
   "source": [
    "# Ex2: List only the states with the highest and lowest geographic area"
   ]
  },
  {
   "cell_type": "code",
   "execution_count": 25,
   "metadata": {},
   "outputs": [
    {
     "name": "stdout",
     "output_type": "stream",
     "text": [
      "State with Max geographic area is Alaska covering 589,757 area.\n",
      "State with Min geographic area is Rhode Island covering 1,214 area.\n"
     ]
    }
   ],
   "source": [
    "# Your code here\n",
    "\n",
    "areas = [states[i].area for i in range(len(states))]\n",
    "\n",
    "min_area = min(areas)\n",
    "max_area = max(areas)\n",
    "\n",
    "for i in range(len(states)):\n",
    "    if(states[i].area == min_area):\n",
    "        print(\"State with Min geographic area is {0:s} covering {1:,} area.\".format(states[i].name, states[i].area))\n",
    "    elif (states[i].area == max_area):\n",
    "        print(\"State with Max geographic area is {0:s} covering {1:,} area.\".format(states[i].name, states[i].area))\n",
    "    "
   ]
  },
  {
   "cell_type": "markdown",
   "metadata": {},
   "source": [
    "# Ex3: Find all countries starting with letter \"C\""
   ]
  },
  {
   "cell_type": "code",
   "execution_count": 30,
   "metadata": {},
   "outputs": [
    {
     "name": "stdout",
     "output_type": "stream",
     "text": [
      "<class 'list'>\n",
      "224\n",
      "United States of America\n"
     ]
    }
   ],
   "source": [
    "# Your code here\n",
    "\n",
    "country_sheet = wb[\"Countries\"]\n",
    "\n",
    "countries = []\n",
    "for row in country_sheet.iter_rows(min_row=2, values_only=True):\n",
    "    if row[0] != None:\n",
    "        countries.append(row[0])\n",
    "\n",
    "print(type(countries))\n",
    "print(len(countries))\n",
    "print(countries[213])"
   ]
  },
  {
   "cell_type": "markdown",
   "metadata": {},
   "source": [
    "# Ex4: Find the average of all state median incomes"
   ]
  },
  {
   "cell_type": "code",
   "execution_count": 44,
   "metadata": {},
   "outputs": [
    {
     "name": "stdout",
     "output_type": "stream",
     "text": [
      "<class 'dict'>\n",
      "51\n",
      "55800\n",
      "50\n",
      "US State Average Income Median (Imported) : $55,800.00\n",
      "US State Average Income Median (Computed) : $56,126.00\n"
     ]
    }
   ],
   "source": [
    "# Your code here\n",
    "\n",
    "income_sheet = wb[\"Income\"]\n",
    "\n",
    "incomes = {}\n",
    "for row in income_sheet.iter_rows(min_row=2, values_only=True):\n",
    "    if row[0] != None:\n",
    "        incomes[row[0]] = row[1]\n",
    "\n",
    "print(type(incomes))\n",
    "print(len(incomes))\n",
    "print(incomes['United States'])\n",
    "\n",
    "us_income = incomes['United States']\n",
    "del incomes['United States']\n",
    "\n",
    "print(len(incomes))\n",
    "\n",
    "print(\"US State Average Income Median (Imported) : ${0:6,.2f}\".format(us_income))\n",
    "\n",
    "states_income = sum(incomes.values())/len(incomes)\n",
    "print(\"US State Average Income Median (Computed) : ${0:6,.2f}\".format(states_income))"
   ]
  },
  {
   "cell_type": "code",
   "execution_count": null,
   "metadata": {},
   "outputs": [],
   "source": []
  },
  {
   "cell_type": "markdown",
   "metadata": {},
   "source": [
    "# Ex5: Find the median of all state median incomes"
   ]
  },
  {
   "cell_type": "code",
   "execution_count": 49,
   "metadata": {},
   "outputs": [
    {
     "name": "stdout",
     "output_type": "stream",
     "text": [
      "[40600, 42000, 42000, 44800, 45200, 45400, 45700, 47200, 47300, 47800, 48300, 48600, 49400, 49500, 50200, 50500, 51100, 51100, 51200, 51500, 51500, 52400, 53000, 53900, 54100, 54700, 55000, 55600, 55700, 55700, 57000, 58100, 59600, 60200, 60600, 60900, 61300, 62900, 63500, 63900, 64100, 64500, 66300, 70600, 71300, 72200, 73400, 73500, 75600, 75800]\n",
      "\n",
      "\n",
      "US State Median Income Median : $54400.00\n"
     ]
    }
   ],
   "source": [
    "def median(lst:list):\n",
    "    length = len(lst)\n",
    "    nums = sorted(lst)\n",
    "    print(nums)\n",
    "    if length%2 == 0:\n",
    "        return (nums[(length//2)-1] + nums[(length//2)])/2\n",
    "    return nums[(length//2)]\n",
    "\n",
    "print(\"\\n\\nUS State Median Income Median : $%8.2f\" % median(incomes.values()))"
   ]
  },
  {
   "cell_type": "code",
   "execution_count": null,
   "metadata": {},
   "outputs": [],
   "source": []
  }
 ],
 "metadata": {
  "kernelspec": {
   "display_name": "Python 3",
   "language": "python",
   "name": "python3"
  },
  "language_info": {
   "codemirror_mode": {
    "name": "ipython",
    "version": 3
   },
   "file_extension": ".py",
   "mimetype": "text/x-python",
   "name": "python",
   "nbconvert_exporter": "python",
   "pygments_lexer": "ipython3",
   "version": "3.7.3"
  }
 },
 "nbformat": 4,
 "nbformat_minor": 2
}
