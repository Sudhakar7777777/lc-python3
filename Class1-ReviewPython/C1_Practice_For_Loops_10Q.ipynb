{
 "cells": [
  {
   "cell_type": "markdown",
   "metadata": {},
   "source": [
    "# Python practice problems with for loops, dict, input"
   ]
  },
  {
   "cell_type": "code",
   "execution_count": null,
   "metadata": {},
   "outputs": [],
   "source": [
    "# Review Python \"input\" # this should help with assignments below"
   ]
  },
  {
   "cell_type": "code",
   "execution_count": 7,
   "metadata": {},
   "outputs": [
    {
     "name": "stdout",
     "output_type": "stream",
     "text": [
      "Which year will be next summer Olympics? 2020\n",
      "2020\n"
     ]
    }
   ],
   "source": [
    "Olympic_year = input(\"Which year will be next summer Olympics? \")\n",
    "print(Olympic_year)"
   ]
  },
  {
   "cell_type": "code",
   "execution_count": 8,
   "metadata": {},
   "outputs": [
    {
     "name": "stdout",
     "output_type": "stream",
     "text": [
      "<class 'str'>\n"
     ]
    }
   ],
   "source": [
    "print(type(Olympic_year)) # it is string"
   ]
  },
  {
   "cell_type": "code",
   "execution_count": 9,
   "metadata": {},
   "outputs": [
    {
     "name": "stdout",
     "output_type": "stream",
     "text": [
      "<class 'int'>\n"
     ]
    }
   ],
   "source": [
    "print(type(int(Olympic_year))) # it is integer"
   ]
  },
  {
   "cell_type": "markdown",
   "metadata": {},
   "source": [
    "1) Write a for loop to print \"Hello\" 10 times."
   ]
  },
  {
   "cell_type": "code",
   "execution_count": 14,
   "metadata": {},
   "outputs": [
    {
     "name": "stdout",
     "output_type": "stream",
     "text": [
      "Hello\n",
      "Hello\n",
      "Hello\n",
      "Hello\n",
      "Hello\n",
      "Hello\n",
      "Hello\n",
      "Hello\n",
      "Hello\n",
      "Hello\n",
      "\n",
      "Hello\n",
      "Hello\n",
      "Hello\n",
      "Hello\n",
      "Hello\n",
      "Hello\n",
      "Hello\n",
      "Hello\n",
      "Hello\n",
      "Hello\n"
     ]
    }
   ],
   "source": [
    "# Write code here ...\n",
    "print(\"Hello\\n\" * 10)\n",
    "\n",
    "for i in range(10):\n",
    "    print(\"Hello\")"
   ]
  },
  {
   "cell_type": "markdown",
   "metadata": {},
   "source": [
    "2) Write a for loop to print even numbers in the range 1 .. 20"
   ]
  },
  {
   "cell_type": "code",
   "execution_count": 17,
   "metadata": {},
   "outputs": [
    {
     "name": "stdout",
     "output_type": "stream",
     "text": [
      "2\n",
      "4\n",
      "6\n",
      "8\n",
      "10\n",
      "12\n",
      "14\n",
      "16\n",
      "18\n",
      "\n",
      "2\n",
      "4\n",
      "6\n",
      "8\n",
      "10\n",
      "12\n",
      "14\n",
      "16\n",
      "18\n"
     ]
    }
   ],
   "source": [
    "# Write code here ...\n",
    "for i in range(2,20,2):\n",
    "    print(i)\n",
    "print(\"\")\n",
    "\n",
    "for i in range(1,20):\n",
    "    if i % 2 == 0:\n",
    "        print(i)"
   ]
  },
  {
   "cell_type": "code",
   "execution_count": null,
   "metadata": {},
   "outputs": [],
   "source": [
    "\"\"\"\n",
    "3) Define a list of animals to be as follows:\n",
    "animals = [\"lion\",\"tiger\",\"elephant\",\"giraffe\",\"zebra\"]\n",
    "\n",
    "Now print animal names using for loop. The output should be as follows:\n",
    "1 lion\n",
    "2 tiger\n",
    "3 elephant\n",
    "4 giraffe\n",
    "5 zebra\n",
    "\"\"\""
   ]
  },
  {
   "cell_type": "code",
   "execution_count": 28,
   "metadata": {},
   "outputs": [
    {
     "name": "stdout",
     "output_type": "stream",
     "text": [
      "1 lion\n",
      "2 tiger\n",
      "3 elephant\n",
      "4 giraffe\n",
      "5 zebra\n",
      "\n",
      "List Size : 5\n"
     ]
    }
   ],
   "source": [
    "# Write code here ...\n",
    "animals = [\"lion\",\"tiger\",\"elephant\",\"giraffe\",\"zebra\"]\n",
    "\n",
    "for i in range(0,len(animals)):\n",
    "    print(\"{} {}\".format(i+1, animals[i]))\n",
    "    \n",
    "print(\"\\nList Size : %s\" % str(i+1))"
   ]
  },
  {
   "cell_type": "code",
   "execution_count": null,
   "metadata": {},
   "outputs": [],
   "source": [
    "\"\"\"\n",
    "4) Visiting moon every year for next 10 years\n",
    "The weight on moon can be estimated to be 18%  of weight on earth.\n",
    "Write a program which will ask the user to enter current earth weight.\n",
    "Then calculate weight on moon. Assume our weight increases by 2 pounds every year on earth.\n",
    "\n",
    "Use for loop to print weight on moon each year when you visit.\n",
    "\"\"\""
   ]
  },
  {
   "cell_type": "code",
   "execution_count": 42,
   "metadata": {},
   "outputs": [
    {
     "name": "stdout",
     "output_type": "stream",
     "text": [
      "Earth weight (in kgs): 100\n",
      "Year:[2019] Earth weight: 100 Moon weight: 18.00\n",
      "Year:[2020] Earth weight: 102 Moon weight: 18.36\n",
      "Year:[2021] Earth weight: 104 Moon weight: 18.72\n",
      "Year:[2022] Earth weight: 106 Moon weight: 19.08\n",
      "Year:[2023] Earth weight: 108 Moon weight: 19.44\n",
      "Year:[2024] Earth weight: 110 Moon weight: 19.80\n",
      "Year:[2025] Earth weight: 112 Moon weight: 20.16\n",
      "Year:[2026] Earth weight: 114 Moon weight: 20.52\n",
      "Year:[2027] Earth weight: 116 Moon weight: 20.88\n",
      "Year:[2028] Earth weight: 118 Moon weight: 21.24\n"
     ]
    }
   ],
   "source": [
    "# Write code here ...\n",
    "\n",
    "def print_moon(earth:int, ratio:float, start_year:int, years:int):\n",
    "    for i in range(0, years):\n",
    "        moon=earth * ratio\n",
    "        print(\"Year:[{0:4d}] Earth weight:{1:4d} Moon weight:{2:6.2f}\".format(start_year+i, earth, moon))\n",
    "        earth += 2\n",
    "\n",
    "inp = input(\"Earth weight (in kgs): \")\n",
    "print_moon(int(inp), 0.18, 2019, 10)\n"
   ]
  },
  {
   "cell_type": "markdown",
   "metadata": {},
   "source": [
    "5) Write a for loop to find the sum of all numbers from 1 to 100; 1 + 2 + ... + 99 + 100"
   ]
  },
  {
   "cell_type": "code",
   "execution_count": 44,
   "metadata": {},
   "outputs": [
    {
     "name": "stdout",
     "output_type": "stream",
     "text": [
      "5050\n"
     ]
    }
   ],
   "source": [
    "# Write code here ...\n",
    "\n",
    "sum = 0\n",
    "for i in range(1, 101):\n",
    "    sum += i\n",
    "print(sum)"
   ]
  },
  {
   "cell_type": "markdown",
   "metadata": {},
   "source": [
    "6) Write a for loop which will ask the user to input 4 numbers. The program should calculate sum of 4 numbers and print the sum."
   ]
  },
  {
   "cell_type": "code",
   "execution_count": 45,
   "metadata": {},
   "outputs": [
    {
     "name": "stdout",
     "output_type": "stream",
     "text": [
      "Input Number: 5\n",
      "Input Number: 7\n",
      "Input Number: 3\n",
      "Input Number: 7\n",
      "Total: 22\n"
     ]
    }
   ],
   "source": [
    "# Write code here ...\n",
    "\n",
    "sum = 0\n",
    "for i in range(0,4):\n",
    "    inp = input(\"Input Number: \")\n",
    "    sum += int(inp)\n",
    "print(\"Total: %s\" % sum)"
   ]
  },
  {
   "cell_type": "markdown",
   "metadata": {},
   "source": [
    "7) Write a Python for loop to find product of even number from 1 to 50;\n",
    "2 x 4 x 6 x 8 x ... x 42 x 44 x 46 x 50"
   ]
  },
  {
   "cell_type": "code",
   "execution_count": 50,
   "metadata": {},
   "outputs": [
    {
     "name": "stdout",
     "output_type": "stream",
     "text": [
      "2\n",
      "4\n",
      "6\n",
      "8\n",
      "10\n",
      "12\n",
      "14\n",
      "16\n",
      "18\n",
      "20\n",
      "22\n",
      "24\n",
      "26\n",
      "28\n",
      "30\n",
      "32\n",
      "34\n",
      "36\n",
      "38\n",
      "40\n",
      "42\n",
      "44\n",
      "46\n",
      "48\n",
      "50\n",
      "Product Total : 520469842636666622693081088000000\n"
     ]
    }
   ],
   "source": [
    "# Write code here ...\n",
    "\n",
    "prod = 1\n",
    "for i in range(2,51,2):\n",
    "    print(i)\n",
    "    prod *= i\n",
    "    \n",
    "print(\"Product Total : %s\" % prod)"
   ]
  },
  {
   "cell_type": "markdown",
   "metadata": {},
   "source": [
    "8a) Find the index of minimum and maximum number in MyList.  (Index of the first occurence)"
   ]
  },
  {
   "cell_type": "code",
   "execution_count": 52,
   "metadata": {},
   "outputs": [],
   "source": [
    "myList = [46, 84, 43, 75, 94, 7, 17, 76, 44, 17, 81, 21, 70, 56, 98, 88, 59, 58, 62, 77, \n",
    "          56, 19, 83, 82, 2, 38, 8, 57, 80, 54, 71, 74, 77, 18, 66, 25, 60, 29, 30, 11, \n",
    "          45, 60, 92, 44, 71, 49, 22, 74, 30, 58, 73, 60, 14, 97, 13, 78, 42, 17, 98, 14, \n",
    "          19, 79, 54, 56, 84, 81, 49, 18, 95, 36, 84, 77, 44, 69, 48, 94, 66, 13, 96, 7, \n",
    "          9, 47, 4, 37, 71, 51, 9, 28, 92, 38, 75, 66, 2, 34, 88, 4, 43, 75, 57, 83,\n",
    "          63, 17, 25, 98, 71, 95, 1, 86, 97, 90, 6, 96, 11, 49, 16, 91, 50, 66, 54, 94,\n",
    "          75, 69, 97, 23, 50, 13, 75, 15, 77, 17, 57, 59, 47, 44, 95, 28, 16, 72, 69, 7,\n",
    "          14, 76, 10, 21, 56, 89, 51, 78, 25, 7, 8, 17, 53, 86, 58, 35, 46, 16, 74, 21, 9,\n",
    "          4, 91, 59, 84, 50, 86, 60, 63, 99, 92, 64, 55, 40, 93, 39, 48, 96, 49, 98, 36,\n",
    "          72, 82, 45, 62, 58, 77, 17, 42, 49, 38, 21, 84, 61, 77, 1, 37, 31, 50, 52, 58]"
   ]
  },
  {
   "cell_type": "code",
   "execution_count": 59,
   "metadata": {},
   "outputs": [
    {
     "name": "stdout",
     "output_type": "stream",
     "text": [
      "List Size : 201\n",
      "Min Value : 1\n",
      "Max Value : 99\n",
      "Min Index : 106\n",
      "Max Index : 169\n"
     ]
    }
   ],
   "source": [
    "# Write code here ...\n",
    "print(\"List Size : %s\" % len(myList))\n",
    "\n",
    "newList = sorted(myList)\n",
    "\n",
    "print(\"Min Value : %s\" % newList[0])\n",
    "print(\"Max Value : %s\" % newList[len(myList)-1])\n",
    "\n",
    "print(\"Min Index : %s\" % myList.index(newList[0]))\n",
    "print(\"Max Index : %s\" % myList.index(newList[len(myList)-1]))"
   ]
  },
  {
   "cell_type": "code",
   "execution_count": 61,
   "metadata": {},
   "outputs": [
    {
     "name": "stdout",
     "output_type": "stream",
     "text": [
      "Min Value : 1\n",
      "Max Value : 99\n",
      "Min Index : 106\n",
      "Max Index : 169\n"
     ]
    }
   ],
   "source": [
    "Min = 10000\n",
    "Max = -1\n",
    "\n",
    "for i in myList:\n",
    "    if i < Min:\n",
    "        Min = i\n",
    "    elif i > Max:\n",
    "        Max = i\n",
    "\n",
    "print(\"Min Value : %s\" % Min)\n",
    "print(\"Max Value : %s\" % Max)\n",
    "\n",
    "print(\"Min Index : %s\" % myList.index(Min))\n",
    "print(\"Max Index : %s\" % myList.index(Max))"
   ]
  },
  {
   "cell_type": "markdown",
   "metadata": {},
   "source": [
    "8b) In myList, find top-5 highest frequency numbers. List the numbers and number of occurences."
   ]
  },
  {
   "cell_type": "code",
   "execution_count": 135,
   "metadata": {},
   "outputs": [
    {
     "name": "stdout",
     "output_type": "stream",
     "text": [
      "[(17, 7), (77, 6), (84, 5), (75, 5), (58, 5), (49, 5), (7, 4), (44, 4), (21, 4), (56, 4), (98, 4), (71, 4), (66, 4), (60, 4), (50, 4), (94, 3), (59, 3), (38, 3), (57, 3), (54, 3), (74, 3), (25, 3), (92, 3), (14, 3), (97, 3), (13, 3), (95, 3), (69, 3), (96, 3), (9, 3), (4, 3), (86, 3), (16, 3), (46, 2), (43, 2), (76, 2), (81, 2), (88, 2), (62, 2), (19, 2), (83, 2), (82, 2), (2, 2), (8, 2), (18, 2), (30, 2), (11, 2), (45, 2), (78, 2), (42, 2), (36, 2), (48, 2), (47, 2), (37, 2), (51, 2), (28, 2), (63, 2), (1, 2), (91, 2), (72, 2), (70, 1), (80, 1), (29, 1), (22, 1), (73, 1), (79, 1), (34, 1), (90, 1), (6, 1), (23, 1), (15, 1), (10, 1), (89, 1), (53, 1), (35, 1), (99, 1), (64, 1), (55, 1), (40, 1), (93, 1), (39, 1), (61, 1), (31, 1), (52, 1)]\n",
      "\n",
      "<class 'list'>\n",
      "\n",
      "17=7\n",
      "77=6\n",
      "84=5\n",
      "75=5\n",
      "58=5\n"
     ]
    }
   ],
   "source": [
    "# write code here ...\n",
    "\n",
    "def counter(lst:list):\n",
    "    counts = {}\n",
    "    for i in lst:\n",
    "        counts[i] = counts.get(i, 0) + 1\n",
    "    return sorted(counts.items(), key=lambda x: x[1], reverse=True)\n",
    "\n",
    "d = counter(myList)\n",
    "print(d, end=\"\\n\\n\")\n",
    "print(type(d), end=\"\\n\\n\")\n",
    "\n",
    "for key,value in d[0:5]:\n",
    "    print(\"%s=%s\" % (key,value))"
   ]
  },
  {
   "cell_type": "code",
   "execution_count": null,
   "metadata": {},
   "outputs": [],
   "source": [
    "import collections\n",
    "c = collections.Counter(myList)\n",
    "\n",
    "i=0\n",
    "for k,v in c.most_common():\n",
    "    print(\"%s = %s\" % (k,v))\n",
    "    if i >= 5-1:\n",
    "        break\n",
    "    i += 1"
   ]
  },
  {
   "cell_type": "markdown",
   "metadata": {},
   "source": [
    "9) Write a Python program to convert temperature from Centigrade to Fahrenheit\n",
    "and Fahrenheit to Centigrade. At the start, the program should ask which way we are converting.\n",
    "\n",
    "Then ask the user to input the temperature. Your program should do the conversion\n",
    "and print the results.\n",
    "\n",
    "(C x 9/5) + 32 = F"
   ]
  },
  {
   "cell_type": "code",
   "execution_count": 128,
   "metadata": {},
   "outputs": [
    {
     "name": "stdout",
     "output_type": "stream",
     "text": [
      "1. Centigrade to Fahrenheit\n",
      "2. Fahrenheit to Centigrade\n",
      "Enter 1 or 2:\n",
      "1\n",
      "Enter Centigrade: 27\n",
      "Fahrenheit :  80.60\n",
      "1. Centigrade to Fahrenheit\n",
      "2. Fahrenheit to Centigrade\n",
      "Enter 1 or 2:\n",
      "2\n",
      "Enter Fahrenheit: 79\n",
      "Centigrade :  26.11\n",
      "1. Centigrade to Fahrenheit\n",
      "2. Fahrenheit to Centigrade\n",
      "Enter 1 or 2:\n",
      "3\n",
      "Exiting\n"
     ]
    }
   ],
   "source": [
    "# Write code here \n",
    "\n",
    "while True:\n",
    "    inp = input(\"1. Centigrade to Fahrenheit\\n2. Fahrenheit to Centigrade\\nEnter 1 or 2:\\n\")\n",
    "    i = int(inp)\n",
    "    if i == 1:\n",
    "        inp = input(\"Enter Centigrade: \")\n",
    "        num = int(inp)\n",
    "        print(\"Fahrenheit : %6.2f\" % (num * (9/5) + 32))\n",
    "    elif i == 2:\n",
    "        inp = input(\"Enter Fahrenheit: \")\n",
    "        num = int(inp)\n",
    "        print(\"Centigrade : %6.2f\" % ((num - 32) * (5/9)))\n",
    "    else:\n",
    "        print(\"Exiting\")\n",
    "        break;"
   ]
  },
  {
   "cell_type": "code",
   "execution_count": null,
   "metadata": {},
   "outputs": [],
   "source": [
    "\"\"\"\n",
    "10) Print the times table:\n",
    "1x1=1 1x2=2 1x3=3 1x4=4 1x5=5\n",
    "2x1=2 2x2=4 2x3=6 2x4=8 2x5=10\n",
    "3x1=3 3x2=6 3x3=9 3x4=12 3x5=15\n",
    "4x1=4 4x2=8 4x3=12 4x4=16 4x5=20\n",
    "5x1=5 5x2=10 5x3=15 5x4=20 5x5=25\n",
    "\n",
    "Use for loop nested with for loop to print the above multiplication table\n",
    "\"\"\""
   ]
  },
  {
   "cell_type": "code",
   "execution_count": 134,
   "metadata": {},
   "outputs": [
    {
     "name": "stdout",
     "output_type": "stream",
     "text": [
      "Enter Multiplication table size counts : 10\n",
      "Enter table counts : 5\n",
      "1*1=1  1*2=2  1*3=3  1*4=4  1*5=5  1*6=6  1*7=7  1*8=8  1*9=9  1*10=10  \n",
      "2*1=2  2*2=4  2*3=6  2*4=8  2*5=10  2*6=12  2*7=14  2*8=16  2*9=18  2*10=20  \n",
      "3*1=3  3*2=6  3*3=9  3*4=12  3*5=15  3*6=18  3*7=21  3*8=24  3*9=27  3*10=30  \n",
      "4*1=4  4*2=8  4*3=12  4*4=16  4*5=20  4*6=24  4*7=28  4*8=32  4*9=36  4*10=40  \n",
      "5*1=5  5*2=10  5*3=15  5*4=20  5*5=25  5*6=30  5*7=35  5*8=40  5*9=45  5*10=50  \n"
     ]
    }
   ],
   "source": [
    "# write code here \n",
    "\n",
    "inp1 = input(\"Enter Multiplication table size counts : \")\n",
    "inp2 = input(\"Enter table counts : \")\n",
    "i = int(inp2)\n",
    "j = int(inp1)\n",
    "\n",
    "for ii in range(1, i+1):\n",
    "    for jj in range(1, j+1):\n",
    "        print(\"%s*%s=%s  \" % (ii, jj, ii*jj), end = \"\")\n",
    "    print(\"\")"
   ]
  }
 ],
 "metadata": {
  "kernelspec": {
   "display_name": "Python 3",
   "language": "python",
   "name": "python3"
  },
  "language_info": {
   "codemirror_mode": {
    "name": "ipython",
    "version": 3
   },
   "file_extension": ".py",
   "mimetype": "text/x-python",
   "name": "python",
   "nbconvert_exporter": "python",
   "pygments_lexer": "ipython3",
   "version": "3.7.3"
  }
 },
 "nbformat": 4,
 "nbformat_minor": 2
}
