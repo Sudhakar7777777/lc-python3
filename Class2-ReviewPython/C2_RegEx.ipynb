{
 "cells": [
  {
   "cell_type": "code",
   "execution_count": 1,
   "metadata": {},
   "outputs": [],
   "source": [
    "import re"
   ]
  },
  {
   "cell_type": "code",
   "execution_count": 2,
   "metadata": {},
   "outputs": [],
   "source": [
    "re_txt = \"\"\"\n",
    "Regular Expressions Syntax\n",
    "BASIC SYNTAX\n",
    "\n",
    ".             One character except new line\n",
    "\\.            A period. \\ escapes a special character.\n",
    "\\d            One digit\n",
    "\\D            One non-digit\n",
    "\\w            One word character including digits\n",
    "\\W            One non-word character\n",
    "\\s            One whitespace\n",
    "\\S            One non-whitespace\n",
    "\\b            Word boundary\n",
    "\\n            Newline\n",
    "\\t            Tab\n",
    "\n",
    "MODIFIERS\n",
    "\n",
    "$             End of string\n",
    "^             Start of string\n",
    "ab|cd         Matches ab or de.\n",
    "[ab-d]\t      One character of: a, b, c, d\n",
    "[^ab-d]\t      One character except: a, b, c, d\n",
    "()            Items within parenthesis are retrieved\n",
    "(a(bc))       Items within the sub-parenthesis are retrieved\n",
    "\n",
    "REPETITIONS\n",
    "\n",
    "[ab]{2}       Exactly 2 continuous occurrences of a or b\n",
    "[ab]{2,5}     2 to 5 continuous occurrences of a or b\n",
    "[ab]{2,}      2 or more continuous occurrences of a or b\n",
    "+             One or more\n",
    "*             Zero or more\n",
    "?             0 or 1\n",
    "\"\"\""
   ]
  },
  {
   "cell_type": "code",
   "execution_count": 4,
   "metadata": {},
   "outputs": [],
   "source": [
    "# https://www.w3schools.com/python/python_regex.asp"
   ]
  },
  {
   "cell_type": "code",
   "execution_count": 7,
   "metadata": {},
   "outputs": [
    {
     "name": "stdout",
     "output_type": "stream",
     "text": [
      "<re.Match object; span=(0, 17), match='The rain in Spain'>\n"
     ]
    }
   ],
   "source": [
    "txt = \"The rain in Spain\"\n",
    "x = re.search(\"^The.*Spain$\", txt)\n",
    "print(x)"
   ]
  },
  {
   "cell_type": "code",
   "execution_count": 8,
   "metadata": {},
   "outputs": [
    {
     "name": "stdout",
     "output_type": "stream",
     "text": [
      "['ai', 'ai']\n"
     ]
    }
   ],
   "source": [
    "str = \"The rain in Spain\"\n",
    "x = re.findall(\"ai\", str)\n",
    "print(x)"
   ]
  },
  {
   "cell_type": "code",
   "execution_count": 9,
   "metadata": {},
   "outputs": [
    {
     "name": "stdout",
     "output_type": "stream",
     "text": [
      "[]\n"
     ]
    }
   ],
   "source": [
    "str = \"The rain in Spain\"\n",
    "x = re.findall(\"Portugal\", str)\n",
    "print(x)"
   ]
  },
  {
   "cell_type": "code",
   "execution_count": 13,
   "metadata": {},
   "outputs": [
    {
     "name": "stdout",
     "output_type": "stream",
     "text": [
      "<re.Match object; span=(3, 4), match=' '>\n",
      "The first white-space character is located in position: 3\n",
      "[' ', ' ', ' ']\n"
     ]
    }
   ],
   "source": [
    "str = \"The rain in Spain\"\n",
    "x = re.search(\"\\s\", str)\n",
    "print(x)\n",
    "print(\"The first white-space character is located in position:\", x.start())\n",
    "\n",
    "x = re.findall(\"\\s\", str)\n",
    "print(x)"
   ]
  },
  {
   "cell_type": "code",
   "execution_count": 14,
   "metadata": {},
   "outputs": [
    {
     "name": "stdout",
     "output_type": "stream",
     "text": [
      "None\n"
     ]
    }
   ],
   "source": [
    "str = \"The rain in Spain\"\n",
    "x = re.search(\"Portugal\", str)\n",
    "print(x)"
   ]
  },
  {
   "cell_type": "code",
   "execution_count": 15,
   "metadata": {},
   "outputs": [
    {
     "name": "stdout",
     "output_type": "stream",
     "text": [
      "['The', 'rain', 'in', 'Spain']\n"
     ]
    }
   ],
   "source": [
    "str = \"The rain in Spain\"\n",
    "x = re.split(\"\\s\", str)\n",
    "print(x)"
   ]
  },
  {
   "cell_type": "code",
   "execution_count": 16,
   "metadata": {},
   "outputs": [
    {
     "name": "stdout",
     "output_type": "stream",
     "text": [
      "['The', 'rain in Spain']\n"
     ]
    }
   ],
   "source": [
    "str = \"The rain in Spain\"\n",
    "x = re.split(\"\\s\", str, 1)\n",
    "print(x)"
   ]
  },
  {
   "cell_type": "code",
   "execution_count": 17,
   "metadata": {},
   "outputs": [
    {
     "name": "stdout",
     "output_type": "stream",
     "text": [
      "The9rain9in9Spain\n"
     ]
    }
   ],
   "source": [
    "str = \"The rain in Spain\"\n",
    "x = re.sub(\"\\s\", \"9\", str)\n",
    "print(x)"
   ]
  },
  {
   "cell_type": "code",
   "execution_count": 18,
   "metadata": {},
   "outputs": [
    {
     "name": "stdout",
     "output_type": "stream",
     "text": [
      "The9rain9in Spain\n"
     ]
    }
   ],
   "source": [
    "str = \"The rain in Spain\"\n",
    "x = re.sub(\"\\s\", \"9\", str, 2)\n",
    "print(x)"
   ]
  },
  {
   "cell_type": "code",
   "execution_count": 20,
   "metadata": {},
   "outputs": [
    {
     "name": "stdout",
     "output_type": "stream",
     "text": [
      "<re.Match object; span=(5, 7), match='ai'>\n",
      "(5, 7)\n"
     ]
    }
   ],
   "source": [
    "str = \"The rain in Spain\"\n",
    "x = re.search(\"ai\", str)\n",
    "print(x) #this will print an object\n",
    "print(x.span())"
   ]
  },
  {
   "cell_type": "code",
   "execution_count": 22,
   "metadata": {},
   "outputs": [
    {
     "name": "stdout",
     "output_type": "stream",
     "text": [
      "<re.Match object; span=(12, 17), match='Spain'>\n",
      "(12, 17)\n"
     ]
    }
   ],
   "source": [
    "str = \"The rain in Spain\"\n",
    "x = re.search(r\"\\bS\\w+\", str)\n",
    "print(x)\n",
    "print(x.span())"
   ]
  },
  {
   "cell_type": "code",
   "execution_count": 24,
   "metadata": {},
   "outputs": [
    {
     "name": "stdout",
     "output_type": "stream",
     "text": [
      "The rain in Spain\n",
      "<re.Match object; span=(12, 17), match='Spain'>\n"
     ]
    }
   ],
   "source": [
    "str = \"The rain in Spain\"\n",
    "x = re.search(r\"\\bS\\w+\", str)\n",
    "print(x.string)\n",
    "print(x)"
   ]
  },
  {
   "cell_type": "code",
   "execution_count": null,
   "metadata": {},
   "outputs": [],
   "source": [
    "https://www.datacamp.com/community/tutorials/python-regular-expression-tutorial"
   ]
  },
  {
   "cell_type": "code",
   "execution_count": 39,
   "metadata": {},
   "outputs": [
    {
     "name": "stdout",
     "output_type": "stream",
     "text": [
      "Match!\n",
      "<re.Match object; span=(0, 7), match='Cooki$e'>\n"
     ]
    }
   ],
   "source": [
    "pattern = r\".*\\$e\"\n",
    "sequence = \"Cooki$e\"\n",
    "if re.match(pattern, sequence):\n",
    "  print(\"Match!\")\n",
    "else: print(\"Not a match!\")\n",
    "print(re.match(pattern, sequence))"
   ]
  },
  {
   "cell_type": "code",
   "execution_count": 40,
   "metadata": {},
   "outputs": [
    {
     "name": "stdout",
     "output_type": "stream",
     "text": [
      "support@datacamp.com\n",
      "support\n",
      "datacamp.com\n"
     ]
    }
   ],
   "source": [
    "email_address = 'Please contact us at: support@datacamp.com'\n",
    "match = re.search(r'([\\w\\.-]+)@([\\w\\.-]+)',email_address)\n",
    "\n",
    "print(match.group()) # The whole matched text\n",
    "print(match.group(1)) # The username (group 1)\n",
    "print(match.group(2)) # The host (group 2)"
   ]
  },
  {
   "cell_type": "code",
   "execution_count": 56,
   "metadata": {},
   "outputs": [
    {
     "name": "stdout",
     "output_type": "stream",
     "text": [
      "<re.Match object; span=(22, 42), match='support@datacamp.com'>\n"
     ]
    }
   ],
   "source": [
    "# same as above with simpler match\n",
    "str_email_address = 'Please contact us at: support@datacamp.com'\n",
    "email_match = re.search(r'(\\w+@\\w+\\.\\w+)',str_email_address)\n",
    "\n",
    "print(email_match)"
   ]
  },
  {
   "cell_type": "code",
   "execution_count": 55,
   "metadata": {},
   "outputs": [
    {
     "name": "stdout",
     "output_type": "stream",
     "text": [
      "matchObj.group() :  Cats are smarter than dogs\n",
      "matchObj.group(1) :  Cats\n",
      "matchObj.group(2) :  smarter than\n",
      "matchObj.group(3) :  dogs\n"
     ]
    }
   ],
   "source": [
    "line = \"Cats are smarter than dogs\"\n",
    "\n",
    "matchObj = re.match( r'(.*) are (.*) (.*)', line, re.M|re.I)\n",
    "\n",
    "if matchObj:\n",
    "    print(\"matchObj.group() : \", matchObj.group())\n",
    "    print(\"matchObj.group(1) : \", matchObj.group(1))\n",
    "    print(\"matchObj.group(2) : \", matchObj.group(2))\n",
    "    print(\"matchObj.group(3) : \", matchObj.group(3))\n",
    "else:\n",
    "    print(\"No match!!\")"
   ]
  },
  {
   "cell_type": "code",
   "execution_count": 57,
   "metadata": {},
   "outputs": [
    {
     "name": "stdout",
     "output_type": "stream",
     "text": [
      "Phone Num :  2004-959-559\n",
      "Phone Num :  2004959559\n"
     ]
    }
   ],
   "source": [
    "phone = \"2004-959-559 # This is Phone Number\"\n",
    "\n",
    "# Delete Python-style comments\n",
    "num = re.sub(r' #.*$', \"\", phone)\n",
    "print(\"Phone Num : \", num)\n",
    "\n",
    "# Remove anything other than digits\n",
    "num = re.sub(r'\\D', \"\", phone)    \n",
    "print(\"Phone Num : \", num)"
   ]
  },
  {
   "cell_type": "code",
   "execution_count": null,
   "metadata": {},
   "outputs": [],
   "source": []
  },
  {
   "cell_type": "markdown",
   "metadata": {},
   "source": [
    "test_str = \"This is Learning Center in Sunnyvale; zip code 94087\"\n",
    "\n",
    "# https://regex101.com/"
   ]
  }
 ],
 "metadata": {
  "kernelspec": {
   "display_name": "Python 3",
   "language": "python",
   "name": "python3"
  },
  "language_info": {
   "codemirror_mode": {
    "name": "ipython",
    "version": 3
   },
   "file_extension": ".py",
   "mimetype": "text/x-python",
   "name": "python",
   "nbconvert_exporter": "python",
   "pygments_lexer": "ipython3",
   "version": "3.7.3"
  }
 },
 "nbformat": 4,
 "nbformat_minor": 2
}
