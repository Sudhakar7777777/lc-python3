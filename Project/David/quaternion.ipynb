{
 "cells": [
  {
   "cell_type": "code",
   "execution_count": null,
   "metadata": {},
   "outputs": [],
   "source": [
    "\"\"\"\n",
    "djenkins$ conda install -c conda-forge quaternion\n",
    "Collecting package metadata (current_repodata.json): done\n",
    "Solving environment: done\n",
    "\n",
    "\n",
    "==> WARNING: A newer version of conda exists. <==\n",
    "  current version: 4.7.10\n",
    "  latest version: 4.8.0\n",
    "\n",
    "Please update conda by running\n",
    "\n",
    "    $ conda update -n base -c defaults conda\n",
    "\n",
    "\n",
    "\n",
    "## Package Plan ##\n",
    "\n",
    "  environment location: //anaconda3\n",
    "\n",
    "  added / updated specs:\n",
    "    - quaternion\n",
    "\n",
    "\n",
    "\n",
    "The following packages will be downloaded:\n",
    "\n",
    "    package                    |            build\n",
    "    ---------------------------|-----------------\n",
    "    conda-4.8.0                |           py37_1         3.0 MB  conda-forge\n",
    "    quaternion-2019.12.11.22.25.52|   py37h3b54f70_0          66 KB  conda-forge\n",
    "    ------------------------------------------------------------\n",
    "                                           Total:         3.0 MB\n",
    "\n",
    "The following NEW packages will be INSTALLED:\n",
    "\n",
    "  quaternion         conda-forge/osx-64::quaternion-2019.12.11.22.25.52-py37h3b54f70_0\n",
    "\n",
    "The following packages will be UPDATED:\n",
    "\n",
    "  conda                      pkgs/main::conda-4.7.10-py37_0 --> conda-forge::conda-4.8.0-py37_1\n",
    "\n",
    "\n",
    "Proceed ([y]/n)? y\n",
    "\n",
    "\n",
    "Downloading and Extracting Packages\n",
    "quaternion-2019.12.1 | 66 KB     | ########################################################################## | 100% \n",
    "conda-4.8.0          | 3.0 MB    | ########################################################################## | 100% \n",
    "Preparing transaction: done\n",
    "Verifying transaction: done\n",
    "Executing transaction: done\n",
    ">>> import numpy as np\n",
    ">>> import quaternion\n",
    "//anaconda3/lib/python3.7/site-packages/llvmlite/binding/ffi.py:138: UserWarning: Module quaternion was already imported from //anaconda3/lib/python3.7/site-packages/quaternion/__init__.py, but /private/var/tmp/numpy-quaternion-2019.12.11.22.25.52 is being added to sys.path\n",
    "  from pkg_resources import resource_filename\n",
    ">>> np.quaternion(1,0,0,0)\n",
    "quaternion(1, 0, 0, 0)\n",
    ">>> q1 = np.quaternion(1,2,3,4)\n",
    ">>> q2 = np.quaternion(5,6,7,8)\n",
    ">>> q1 * q2\n",
    "quaternion(-60, 12, 30, 24)\n",
    ">>> a = np.array([q1, q2])\n",
    ">>> a\n",
    "array([quaternion(1, 2, 3, 4), quaternion(5, 6, 7, 8)], dtype=quaternion)\n",
    ">>> exp(a)\n",
    "Traceback (most recent call last):\n",
    "  File \"<stdin>\", line 1, in <module>\n",
    "NameError: name 'exp' is not defined\n",
    ">>> np.exp(a)\n",
    "array([quaternion(1.6939227236833, -0.789559624541559, -1.18433943681234, -1.57911924908312),\n",
    "       quaternion(138.909074085355, -25.6860834459456, -29.9670973536031, -34.2481112612607)],\n",
    "      dtype=quaternion)\n",
    ">>> print(quaternion.quaternion.__doc__)\n",
    "Floating-point quaternion numbers\n",
    ">>> print(quaternion.__doc__)\n",
    "Adds a quaternion dtype to NumPy.\n",
    ">>> print(quaternion.quaternion.isnan.__doc__)\n",
    "True if the quaternion has any NAN components\n",
    ">>> print(quaternion.quaternion.isinf.__doc__)\n",
    "True if the quaternion has any INF components\n",
    ">>> b = np.random.rand(7, 4)\n",
    ">>> a\n",
    "array([quaternion(1, 2, 3, 4), quaternion(5, 6, 7, 8)], dtype=quaternion)\n",
    ">>> b\n",
    "array([[0.99895373, 0.30154827, 0.88115152, 0.98287508],\n",
    "       [0.49534313, 0.61018186, 0.9096572 , 0.29204415],\n",
    "       [0.39470414, 0.11470446, 0.65476301, 0.21670401],\n",
    "       [0.17782326, 0.97546319, 0.91501829, 0.58850964],\n",
    "       [0.5403809 , 0.80178664, 0.79783456, 0.21799257],\n",
    "       [0.77595376, 0.01932171, 0.33732108, 0.45163488],\n",
    "       [0.60139502, 0.97799766, 0.87209139, 0.16686438]])\n",
    ">>> qs = quaternion.as_quat_array(b)\n",
    ">>> qs\n",
    "array([quaternion(0.998953731683471, 0.301548271773422, 0.881151522076046, 0.982875077757529),\n",
    "       quaternion(0.495343129122788, 0.610181856859035, 0.909657196953155, 0.292044147129649),\n",
    "       quaternion(0.394704137986282, 0.114704459225541, 0.654763010521751, 0.216704014056125),\n",
    "       quaternion(0.177823258485604, 0.975463185507288, 0.915018285395388, 0.588509644908966),\n",
    "       quaternion(0.540380896317057, 0.80178663747606, 0.797834556149534, 0.217992566846626),\n",
    "       quaternion(0.775953757406735, 0.0193217087005647, 0.337321078753476, 0.451634882827485),\n",
    "       quaternion(0.60139502036291, 0.97799766439602, 0.872091393520252, 0.166864381115203)],\n",
    "      dtype=quaternion)\n",
    ">>> c = quaternion.as_float_array(qs)\n",
    ">>> c\n",
    "array([[0.99895373, 0.30154827, 0.88115152, 0.98287508],\n",
    "       [0.49534313, 0.61018186, 0.9096572 , 0.29204415],\n",
    "       [0.39470414, 0.11470446, 0.65476301, 0.21670401],\n",
    "       [0.17782326, 0.97546319, 0.91501829, 0.58850964],\n",
    "       [0.5403809 , 0.80178664, 0.79783456, 0.21799257],\n",
    "       [0.77595376, 0.01932171, 0.33732108, 0.45163488],\n",
    "       [0.60139502, 0.97799766, 0.87209139, 0.16686438]])\n",
    ">>> q1 * q1\n",
    "quaternion(-28, 4, 6, 8)\n",
    ">>> q2 * q2\n",
    "quaternion(-124, 60, 70, 80)\n",
    ">>> q2 * q1\n",
    "quaternion(-60, 20, 14, 32)\n",
    "\"\"\""
   ]
  },
  {
   "cell_type": "code",
   "execution_count": 1,
   "metadata": {},
   "outputs": [],
   "source": [
    "import numpy as np"
   ]
  },
  {
   "cell_type": "code",
   "execution_count": 2,
   "metadata": {},
   "outputs": [
    {
     "ename": "AttributeError",
     "evalue": "module 'numpy' has no attribute 'quaternion'",
     "output_type": "error",
     "traceback": [
      "\u001b[0;31m---------------------------------------------------------------------------\u001b[0m",
      "\u001b[0;31mAttributeError\u001b[0m                            Traceback (most recent call last)",
      "\u001b[0;32m<ipython-input-2-a1cc1cbf6903>\u001b[0m in \u001b[0;36m<module>\u001b[0;34m\u001b[0m\n\u001b[0;32m----> 1\u001b[0;31m \u001b[0mnp\u001b[0m\u001b[0;34m.\u001b[0m\u001b[0mquaternion\u001b[0m\u001b[0;34m(\u001b[0m\u001b[0;36m1\u001b[0m\u001b[0;34m,\u001b[0m\u001b[0;36m0\u001b[0m\u001b[0;34m,\u001b[0m\u001b[0;36m0\u001b[0m\u001b[0;34m,\u001b[0m\u001b[0;36m0\u001b[0m\u001b[0;34m)\u001b[0m\u001b[0;34m\u001b[0m\u001b[0;34m\u001b[0m\u001b[0m\n\u001b[0m",
      "\u001b[0;31mAttributeError\u001b[0m: module 'numpy' has no attribute 'quaternion'"
     ]
    }
   ],
   "source": [
    "np.quaternion(1,0,0,0)"
   ]
  },
  {
   "cell_type": "code",
   "execution_count": 3,
   "metadata": {},
   "outputs": [],
   "source": [
    "import quaternion"
   ]
  },
  {
   "cell_type": "code",
   "execution_count": 5,
   "metadata": {},
   "outputs": [
    {
     "data": {
      "text/plain": [
       "quaternion(1, 0, 0, 0)"
      ]
     },
     "execution_count": 5,
     "metadata": {},
     "output_type": "execute_result"
    }
   ],
   "source": [
    "np.quaternion(1,0,0,0)"
   ]
  },
  {
   "cell_type": "code",
   "execution_count": 6,
   "metadata": {},
   "outputs": [],
   "source": [
    "q1 = np.quaternion(1,2,3,4)\n",
    "q2 = np.quaternion(5,6,7,8)"
   ]
  },
  {
   "cell_type": "code",
   "execution_count": 7,
   "metadata": {},
   "outputs": [
    {
     "data": {
      "text/plain": [
       "quaternion(-60, 12, 30, 24)"
      ]
     },
     "execution_count": 7,
     "metadata": {},
     "output_type": "execute_result"
    }
   ],
   "source": [
    "q1 * q2"
   ]
  },
  {
   "cell_type": "code",
   "execution_count": 8,
   "metadata": {},
   "outputs": [],
   "source": [
    "a = np.array([q1, q2])"
   ]
  },
  {
   "cell_type": "code",
   "execution_count": 9,
   "metadata": {},
   "outputs": [
    {
     "data": {
      "text/plain": [
       "array([quaternion(1, 2, 3, 4), quaternion(5, 6, 7, 8)], dtype=quaternion)"
      ]
     },
     "execution_count": 9,
     "metadata": {},
     "output_type": "execute_result"
    }
   ],
   "source": [
    "a"
   ]
  },
  {
   "cell_type": "code",
   "execution_count": 10,
   "metadata": {},
   "outputs": [
    {
     "data": {
      "text/plain": [
       "array([quaternion(1.6939227236833, -0.789559624541559, -1.18433943681234, -1.57911924908312),\n",
       "       quaternion(138.909074085355, -25.6860834459456, -29.9670973536031, -34.2481112612607)],\n",
       "      dtype=quaternion)"
      ]
     },
     "execution_count": 10,
     "metadata": {},
     "output_type": "execute_result"
    }
   ],
   "source": [
    "np.exp(a)"
   ]
  },
  {
   "cell_type": "code",
   "execution_count": 11,
   "metadata": {},
   "outputs": [],
   "source": [
    "b = np.random.rand(7, 4)"
   ]
  },
  {
   "cell_type": "code",
   "execution_count": 16,
   "metadata": {},
   "outputs": [
    {
     "data": {
      "text/plain": [
       "array([[0.47625742, 0.21629489, 0.49112037, 0.81027465],\n",
       "       [0.6725208 , 0.58919041, 0.82025083, 0.82597669],\n",
       "       [0.70320494, 0.19602951, 0.03348806, 0.94086097],\n",
       "       [0.74003941, 0.77189059, 0.62692237, 0.63263106],\n",
       "       [0.32140599, 0.30951684, 0.07298492, 0.48303013],\n",
       "       [0.69059116, 0.1071121 , 0.34334277, 0.00382687],\n",
       "       [0.24372803, 0.45613818, 0.70021532, 0.80523109]])"
      ]
     },
     "execution_count": 16,
     "metadata": {},
     "output_type": "execute_result"
    }
   ],
   "source": [
    "b"
   ]
  },
  {
   "cell_type": "code",
   "execution_count": 12,
   "metadata": {},
   "outputs": [],
   "source": [
    "qa = quaternion.as_quat_array(b)"
   ]
  },
  {
   "cell_type": "code",
   "execution_count": 13,
   "metadata": {},
   "outputs": [
    {
     "data": {
      "text/plain": [
       "array([quaternion(0.476257420851741, 0.216294887839965, 0.491120370003263, 0.810274649430499),\n",
       "       quaternion(0.67252079848163, 0.589190405072833, 0.820250833916818, 0.825976691445323),\n",
       "       quaternion(0.703204938671097, 0.196029510349619, 0.0334880557614015, 0.940860965281321),\n",
       "       quaternion(0.74003941153208, 0.771890593739248, 0.626922369982536, 0.632631056702392),\n",
       "       quaternion(0.321405989295709, 0.309516844535901, 0.0729849190346288, 0.4830301331896),\n",
       "       quaternion(0.690591162059323, 0.107112095533329, 0.343342768717331, 0.00382687291932882),\n",
       "       quaternion(0.243728032590521, 0.456138183616873, 0.700215316682061, 0.805231089852701)],\n",
       "      dtype=quaternion)"
      ]
     },
     "execution_count": 13,
     "metadata": {},
     "output_type": "execute_result"
    }
   ],
   "source": [
    "qa"
   ]
  },
  {
   "cell_type": "code",
   "execution_count": 14,
   "metadata": {},
   "outputs": [],
   "source": [
    "c = quaternion.as_float_array(qa)"
   ]
  },
  {
   "cell_type": "code",
   "execution_count": 15,
   "metadata": {},
   "outputs": [
    {
     "data": {
      "text/plain": [
       "array([[0.47625742, 0.21629489, 0.49112037, 0.81027465],\n",
       "       [0.6725208 , 0.58919041, 0.82025083, 0.82597669],\n",
       "       [0.70320494, 0.19602951, 0.03348806, 0.94086097],\n",
       "       [0.74003941, 0.77189059, 0.62692237, 0.63263106],\n",
       "       [0.32140599, 0.30951684, 0.07298492, 0.48303013],\n",
       "       [0.69059116, 0.1071121 , 0.34334277, 0.00382687],\n",
       "       [0.24372803, 0.45613818, 0.70021532, 0.80523109]])"
      ]
     },
     "execution_count": 15,
     "metadata": {},
     "output_type": "execute_result"
    }
   ],
   "source": [
    "c"
   ]
  },
  {
   "cell_type": "code",
   "execution_count": 17,
   "metadata": {},
   "outputs": [
    {
     "data": {
      "text/plain": [
       "quaternion(-60, 20, 14, 32)"
      ]
     },
     "execution_count": 17,
     "metadata": {},
     "output_type": "execute_result"
    }
   ],
   "source": [
    "q2 * q1"
   ]
  },
  {
   "cell_type": "code",
   "execution_count": 18,
   "metadata": {},
   "outputs": [],
   "source": [
    "#1*5 + 1*6i + 1*7j + 1*8k + 2*5i - 2*6 + 2*7k - 2*8j + 3*5j - 3*6k - 3*7 +3*8i + 4*5k + 4*6j - 4*7i -4*8"
   ]
  },
  {
   "cell_type": "markdown",
   "metadata": {},
   "source": [
    "#    5   +  6i +  7j +  8k\n",
    "# -12 + 10i - 16j + 14k\n",
    "# -21 + 24i + 15j - 18k\n",
    "# -32 - 28i + 24j + 20k\n",
    "# -60 + 12i + 30j + 24k"
   ]
  },
  {
   "cell_type": "code",
   "execution_count": 19,
   "metadata": {},
   "outputs": [
    {
     "ename": "SyntaxError",
     "evalue": "invalid syntax (<ipython-input-19-084fe069418d>, line 1)",
     "output_type": "error",
     "traceback": [
      "\u001b[0;36m  File \u001b[0;32m\"<ipython-input-19-084fe069418d>\"\u001b[0;36m, line \u001b[0;32m1\u001b[0m\n\u001b[0;31m    http://www.zpenergy.com/downloads/Orig_maxwell_equations.pdf\u001b[0m\n\u001b[0m          ^\u001b[0m\n\u001b[0;31mSyntaxError\u001b[0m\u001b[0;31m:\u001b[0m invalid syntax\n"
     ]
    }
   ],
   "source": [
    "http://www.zpenergy.com/downloads/Orig_maxwell_equations.pdf\n",
    "https://www.mathworks.com/help/fusion/ref/quaternion.mtimes.html"
   ]
  },
  {
   "cell_type": "code",
   "execution_count": 20,
   "metadata": {},
   "outputs": [
    {
     "data": {
      "text/plain": [
       "quaternion(-60, 20, 14, 32)"
      ]
     },
     "execution_count": 20,
     "metadata": {},
     "output_type": "execute_result"
    }
   ],
   "source": [
    "q2 * q1"
   ]
  },
  {
   "cell_type": "code",
   "execution_count": null,
   "metadata": {},
   "outputs": [],
   "source": []
  }
 ],
 "metadata": {
  "kernelspec": {
   "display_name": "Python 3",
   "language": "python",
   "name": "python3"
  },
  "language_info": {
   "codemirror_mode": {
    "name": "ipython",
    "version": 3
   },
   "file_extension": ".py",
   "mimetype": "text/x-python",
   "name": "python",
   "nbconvert_exporter": "python",
   "pygments_lexer": "ipython3",
   "version": "3.7.3"
  }
 },
 "nbformat": 4,
 "nbformat_minor": 2
}
