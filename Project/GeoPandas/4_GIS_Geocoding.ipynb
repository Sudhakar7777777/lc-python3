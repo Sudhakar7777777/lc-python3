{
 "cells": [
  {
   "cell_type": "markdown",
   "metadata": {},
   "source": [
    "# Geocoding"
   ]
  },
  {
   "cell_type": "markdown",
   "metadata": {},
   "source": [
    "Geocoding is the computational process of transforming a physical address description to a location on the Earth’s surface (spatial representation in numerical coordinates)"
   ]
  },
  {
   "cell_type": "markdown",
   "metadata": {},
   "source": [
    "Luckily, in Python there are nice libraries that makes the geocoding really easy. One of the libraries that can do the geocoding for us is geopy that makes it easy to locate the coordinates of addresses, cities, countries, and landmarks across the globe using third-party geocoders and other data sources."
   ]
  },
  {
   "cell_type": "markdown",
   "metadata": {},
   "source": [
    "Geopy uses 3rd party geocoders\n",
    "- http://resources.arcgis.com/en/help/arcgis-rest-api/\n",
    "- http://developer.baidu.com/map/webservice-geocoding.htm\n",
    "- http://www.microsoft.com/maps/developers/web.aspx\n",
    "- http://geocoder.us/\n",
    "- https://www.geocodefarm.com/\n",
    "- http://www.geonames.org/\n",
    "- https://developers.google.com/maps/documentation/geocoding/\n",
    "- http://api.ign.fr/tech-docs-js/fr/developpeur/search.html\n",
    "- http://www.mapquestapi.com/geocoding/\n",
    "- https://mapzen.com/projects/search/\n",
    "- http://navidata.pl/\n",
    "- http://geocoder.opencagedata.com/api.html\n",
    "- http://developer.mapquest.com/web/products/open/geocoding-service\n",
    "- https://wiki.openstreetmap.org/wiki/Nominatim\n",
    "- https://smartystreets.com/products/liveaddress-api\n",
    "- http://what3words.com/api/reference\n",
    "- http://api.yandex.com/maps/doc/intro/concepts/intro.xml"
   ]
  },
  {
   "cell_type": "code",
   "execution_count": 1,
   "metadata": {},
   "outputs": [],
   "source": [
    "# Import necessary modules\n",
    "import pandas as pd\n",
    "import geopandas as gpd\n",
    "from shapely.geometry import Point"
   ]
  },
  {
   "cell_type": "code",
   "execution_count": 2,
   "metadata": {},
   "outputs": [],
   "source": [
    "# Filepath\n",
    "fp = r\"data-address/addresses.txt\"\n",
    "\n",
    "# Read the data\n",
    "data = pd.read_csv(fp, sep=';')"
   ]
  },
  {
   "cell_type": "code",
   "execution_count": 3,
   "metadata": {},
   "outputs": [
    {
     "data": {
      "text/html": [
       "<div>\n",
       "<style scoped>\n",
       "    .dataframe tbody tr th:only-of-type {\n",
       "        vertical-align: middle;\n",
       "    }\n",
       "\n",
       "    .dataframe tbody tr th {\n",
       "        vertical-align: top;\n",
       "    }\n",
       "\n",
       "    .dataframe thead th {\n",
       "        text-align: right;\n",
       "    }\n",
       "</style>\n",
       "<table border=\"1\" class=\"dataframe\">\n",
       "  <thead>\n",
       "    <tr style=\"text-align: right;\">\n",
       "      <th></th>\n",
       "      <th>id</th>\n",
       "      <th>addr</th>\n",
       "    </tr>\n",
       "  </thead>\n",
       "  <tbody>\n",
       "    <tr>\n",
       "      <th>0</th>\n",
       "      <td>1000</td>\n",
       "      <td>Itämerenkatu 14, 00101 Helsinki, Finland</td>\n",
       "    </tr>\n",
       "    <tr>\n",
       "      <th>1</th>\n",
       "      <td>1001</td>\n",
       "      <td>Kampinkuja 1, 00100 Helsinki, Finland</td>\n",
       "    </tr>\n",
       "    <tr>\n",
       "      <th>2</th>\n",
       "      <td>1002</td>\n",
       "      <td>Kaivokatu 8, 00101 Helsinki, Finland</td>\n",
       "    </tr>\n",
       "    <tr>\n",
       "      <th>3</th>\n",
       "      <td>1003</td>\n",
       "      <td>Hermannin rantatie 1, 00580 Helsinki, Finland</td>\n",
       "    </tr>\n",
       "    <tr>\n",
       "      <th>4</th>\n",
       "      <td>1005</td>\n",
       "      <td>Tyynenmerenkatu 9, 00220 Helsinki, Finland</td>\n",
       "    </tr>\n",
       "  </tbody>\n",
       "</table>\n",
       "</div>"
      ],
      "text/plain": [
       "     id                                           addr\n",
       "0  1000       Itämerenkatu 14, 00101 Helsinki, Finland\n",
       "1  1001          Kampinkuja 1, 00100 Helsinki, Finland\n",
       "2  1002           Kaivokatu 8, 00101 Helsinki, Finland\n",
       "3  1003  Hermannin rantatie 1, 00580 Helsinki, Finland\n",
       "4  1005     Tyynenmerenkatu 9, 00220 Helsinki, Finland"
      ]
     },
     "execution_count": 3,
     "metadata": {},
     "output_type": "execute_result"
    }
   ],
   "source": [
    "# Let's take a look of the data\n",
    "data.head()"
   ]
  },
  {
   "cell_type": "code",
   "execution_count": 4,
   "metadata": {},
   "outputs": [],
   "source": [
    "# Import the geocoding tool\n",
    "from geopandas.tools import geocode\n",
    "from geopy.geocoders import Nominatim"
   ]
  },
  {
   "cell_type": "code",
   "execution_count": 5,
   "metadata": {},
   "outputs": [],
   "source": [
    "# from geopy.extra.rate_limiter import RateLimiter\n",
    "# from geopy.geocoders import Nominatim\n",
    "# locator = Nominatim(user_agent=\"myApp\")\n",
    "# location = locator.geocode(\"Champ de Mars, Paris, France\")\n",
    "# type(location)\n",
    "# df['location'] = df['ADDRESS'].apply(geocode)\n",
    "# print(location.address)\n",
    "# print(location.geocode)\n",
    "# geocoder = RateLimiter(locator.geocode, min_delay_seconds=1)"
   ]
  },
  {
   "cell_type": "code",
   "execution_count": 6,
   "metadata": {},
   "outputs": [],
   "source": [
    "# Geocode addresses with Nominatim backend\n",
    "geo = geocode(data['addr'], provider='nominatim', user_agent=\"my-application\", timeout=5)"
   ]
  },
  {
   "cell_type": "code",
   "execution_count": 7,
   "metadata": {},
   "outputs": [
    {
     "data": {
      "text/html": [
       "<div>\n",
       "<style scoped>\n",
       "    .dataframe tbody tr th:only-of-type {\n",
       "        vertical-align: middle;\n",
       "    }\n",
       "\n",
       "    .dataframe tbody tr th {\n",
       "        vertical-align: top;\n",
       "    }\n",
       "\n",
       "    .dataframe thead th {\n",
       "        text-align: right;\n",
       "    }\n",
       "</style>\n",
       "<table border=\"1\" class=\"dataframe\">\n",
       "  <thead>\n",
       "    <tr style=\"text-align: right;\">\n",
       "      <th></th>\n",
       "      <th>geometry</th>\n",
       "      <th>address</th>\n",
       "    </tr>\n",
       "  </thead>\n",
       "  <tbody>\n",
       "    <tr>\n",
       "      <th>0</th>\n",
       "      <td>POINT (24.91556 60.16320)</td>\n",
       "      <td>Ruoholahti, 14, Itämerenkatu, Ruoholahti, Läns...</td>\n",
       "    </tr>\n",
       "    <tr>\n",
       "      <th>1</th>\n",
       "      <td>POINT (24.93169 60.16902)</td>\n",
       "      <td>Kamppi, 1, Kampinkuja, Kamppi, Eteläinen suurp...</td>\n",
       "    </tr>\n",
       "  </tbody>\n",
       "</table>\n",
       "</div>"
      ],
      "text/plain": [
       "                    geometry  \\\n",
       "0  POINT (24.91556 60.16320)   \n",
       "1  POINT (24.93169 60.16902)   \n",
       "\n",
       "                                             address  \n",
       "0  Ruoholahti, 14, Itämerenkatu, Ruoholahti, Läns...  \n",
       "1  Kamppi, 1, Kampinkuja, Kamppi, Eteläinen suurp...  "
      ]
     },
     "execution_count": 7,
     "metadata": {},
     "output_type": "execute_result"
    }
   ],
   "source": [
    "geo.head(2)"
   ]
  },
  {
   "cell_type": "code",
   "execution_count": 8,
   "metadata": {},
   "outputs": [],
   "source": [
    "join = geo.join(data)"
   ]
  },
  {
   "cell_type": "code",
   "execution_count": 9,
   "metadata": {},
   "outputs": [
    {
     "data": {
      "text/plain": [
       "geopandas.geodataframe.GeoDataFrame"
      ]
     },
     "execution_count": 9,
     "metadata": {},
     "output_type": "execute_result"
    }
   ],
   "source": [
    "type(join)"
   ]
  },
  {
   "cell_type": "code",
   "execution_count": 10,
   "metadata": {},
   "outputs": [],
   "source": [
    "# Output file path\n",
    "outfp = r\"./data-address/addresses.shp\"\n",
    "\n",
    "# Save to Shapefile\n",
    "join.to_file(outfp)"
   ]
  },
  {
   "cell_type": "code",
   "execution_count": 11,
   "metadata": {},
   "outputs": [
    {
     "data": {
      "text/plain": [
       "<matplotlib.axes._subplots.AxesSubplot at 0x12830aad0>"
      ]
     },
     "execution_count": 11,
     "metadata": {},
     "output_type": "execute_result"
    },
    {
     "data": {
      "image/png": "[encoded data removed]",
      "text/plain": [
       "<Figure size 432x288 with 1 Axes>"
      ]
     },
     "metadata": {
      "needs_background": "light"
     },
     "output_type": "display_data"
    }
   ],
   "source": [
    "join.plot()"
   ]
  }
 ],
 "metadata": {
  "kernelspec": {
   "display_name": "Python [conda env:gis] *",
   "language": "python",
   "name": "conda-env-gis-py"
  },
  "language_info": {
   "codemirror_mode": {
    "name": "ipython",
    "version": 3
   },
   "file_extension": ".py",
   "mimetype": "text/x-python",
   "name": "python",
   "nbconvert_exporter": "python",
   "pygments_lexer": "ipython3",
   "version": "3.7.6"
  }
 },
 "nbformat": 4,
 "nbformat_minor": 2
}
