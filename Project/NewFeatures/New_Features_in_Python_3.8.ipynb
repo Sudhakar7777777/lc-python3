{
 "cells": [
  {
   "cell_type": "markdown",
   "metadata": {},
   "source": [
    "# Python 3.8 - Interesting New Features\n",
    "\n",
    "Official Link: https://docs.python.org/3/whatsnew/3.8.html"
   ]
  },
  {
   "cell_type": "markdown",
   "metadata": {},
   "source": [
    "## The Walrus Operand\n",
    "\n",
    "The biggest change in the release.  Newly introduced walrus operator := for Assignment Expressions.\n",
    "* Feature: Assignment expressions allow you to assign and return a value in the same expression.\n",
    "* Purpose: Makes certain constructs more convenient, and can sometimes communicate the intent of your code more clearly"
   ]
  },
  {
   "cell_type": "markdown",
   "metadata": {},
   "source": [
    "##### Example 1: Assign a value and print "
   ]
  },
  {
   "cell_type": "code",
   "execution_count": 3,
   "metadata": {},
   "outputs": [
    {
     "name": "stdout",
     "output_type": "stream",
     "text": [
      "Hello\n"
     ]
    }
   ],
   "source": [
    "# Legacy Approach\n",
    "\n",
    "greet = \"Hello\"\n",
    "print(greet)"
   ]
  },
  {
   "cell_type": "code",
   "execution_count": 4,
   "metadata": {},
   "outputs": [
    {
     "name": "stdout",
     "output_type": "stream",
     "text": [
      "Hello\n"
     ]
    }
   ],
   "source": [
    "# New Approach\n",
    "print(greet:=\"Hello\")"
   ]
  },
  {
   "cell_type": "markdown",
   "metadata": {},
   "source": [
    "The assignment expression allows you to assign \"Hello\" to greet, and immediately print the value. <br>\n",
    "Strengths of the walrus operator is while loops where you need to initialize and update a variable."
   ]
  },
  {
   "cell_type": "markdown",
   "metadata": {},
   "source": [
    "##### Example 2: Ask the user for input until they type quit"
   ]
  },
  {
   "cell_type": "code",
   "execution_count": 14,
   "metadata": {},
   "outputs": [
    {
     "name": "stdout",
     "output_type": "stream",
     "text": [
      "Write something: a\n",
      "Write something: b\n",
      "Write something: quit\n",
      "['a', 'b']\n"
     ]
    }
   ],
   "source": [
    "# Legacy Approach - Not optimal code\n",
    "\n",
    "inputs = list()\n",
    "current = input(\"Write something: \")\n",
    "while current != \"quit\":\n",
    "    inputs.append(current)\n",
    "    current = input(\"Write something: \")\n",
    "print(inputs)"
   ]
  },
  {
   "cell_type": "code",
   "execution_count": 15,
   "metadata": {},
   "outputs": [
    {
     "name": "stdout",
     "output_type": "stream",
     "text": [
      "Write something: a\n",
      "Write something: b\n",
      "Write something: quit\n",
      "['a', 'b']\n"
     ]
    }
   ],
   "source": [
    "# Legacy Approach - Better code\n",
    "\n",
    "inputs = list()\n",
    "while True:\n",
    "    current = input(\"Write something: \")\n",
    "    if current == \"quit\":\n",
    "        break\n",
    "    inputs.append(current)\n",
    "print(inputs)"
   ]
  },
  {
   "cell_type": "code",
   "execution_count": 16,
   "metadata": {},
   "outputs": [
    {
     "name": "stdout",
     "output_type": "stream",
     "text": [
      "Write something: a\n",
      "Write something: b\n",
      "Write something: quit\n",
      "['a', 'b']\n",
      "a\tb\n"
     ]
    }
   ],
   "source": [
    "# New Approach\n",
    "inputs = list()\n",
    "while (current := input(\"Write something: \")) != \"quit\":\n",
    "    inputs.append(current)\n",
    "print(inputs)\n",
    "print(*inputs, sep=\"\\t\")"
   ]
  },
  {
   "cell_type": "markdown",
   "metadata": {},
   "source": [
    "It takes a bit more effort to read it properly. Use your best judgement about when the walrus operator helps make your code more readable."
   ]
  },
  {
   "cell_type": "markdown",
   "metadata": {},
   "source": [
    "##### Example 3: if conditions"
   ]
  },
  {
   "cell_type": "code",
   "execution_count": null,
   "metadata": {},
   "outputs": [],
   "source": [
    "# Legacy Approach - if conditions\n",
    "env_base = os.environ.get(\"PYTHONUSERBASE\", None)\n",
    "if env_base:\n",
    "    return env_base\n",
    "\n",
    "# New Approach\n",
    "if env_base := os.environ.get(\"PYTHONUSERBASE\", None)\n",
    "    return env_base\n",
    "\n",
    "# Helps to combine if and assignment together"
   ]
  },
  {
   "cell_type": "code",
   "execution_count": null,
   "metadata": {},
   "outputs": [],
   "source": [
    "# Legacy Approach\n",
    "if self._is_special:\n",
    "    ans = self._check_nans(context=context)\n",
    "    if ans:\n",
    "        print(ans)\n",
    "\n",
    "# New Approach\n",
    "if self._is_special and ans := self._check_nans(context=context):\n",
    "    print(ans)\n",
    "    \n",
    "# Helps to avoid nested if and remove one indentation level."
   ]
  },
  {
   "cell_type": "markdown",
   "metadata": {},
   "source": [
    "Walrus Operator Documentation : https://www.python.org/dev/peps/pep-0572/#examples"
   ]
  },
  {
   "cell_type": "markdown",
   "metadata": {},
   "source": [
    "## Positional only parameters\n",
    "A little less flashy, but this is also a great change that doesn’t effect the classic nature of functional parameters. <br>\n",
    "* To make a positional parameter, simply add a '/' slash at the end of parameter arguments when defining a function."
   ]
  },
  {
   "cell_type": "markdown",
   "metadata": {},
   "source": [
    "<b>3 types of parameters in Python:</b>\n",
    "* positional-only parameters,\n",
    "* positional-or-keyword parameters, and\n",
    "* keyword-only parameters."
   ]
  },
  {
   "cell_type": "markdown",
   "metadata": {},
   "source": [
    "##### Legacy Function definition syntax\n",
    "\n",
    "def name(positional_or_keyword_parameters, *, keyword_only_parameters):\n",
    "    \n",
    "##### New Function definition syntax    \n",
    "    \n",
    "def name(positional_only_parameters, /, positional_or_keyword_parameters,\n",
    "         *, keyword_only_parameters):"
   ]
  },
  {
   "cell_type": "markdown",
   "metadata": {},
   "source": [
    "Rules:\n",
    "* All parameters left of the / are treated as positional-only.\n",
    "* If / is not specified in the function definition, that function does not accept any positional-only arguments.\n",
    "* Once a positional-only parameter is specified with a default, the following positional-only and positional-or-keyword parameters need to have defaults as well.\n",
    "* Positional-only parameters which do not have default values are required positional-only parameters."
   ]
  },
  {
   "cell_type": "code",
   "execution_count": null,
   "metadata": {},
   "outputs": [],
   "source": [
    "##### Valid function definitions:\n",
    "def name(p1, p2, /, p_or_kw, *, kw):\n",
    "def name(p1, p2=None, /, p_or_kw=None, *, kw):\n",
    "def name(p1, p2=None, /, *, kw):\n",
    "def name(p1, p2=None, /):\n",
    "def name(p1, p2, /, p_or_kw):\n",
    "def name(p1, p2, /):"
   ]
  },
  {
   "cell_type": "markdown",
   "metadata": {},
   "source": [
    "Example: combine regular arguments with positional-only ones by placing the regular arguments after /"
   ]
  },
  {
   "cell_type": "code",
   "execution_count": 30,
   "metadata": {},
   "outputs": [
    {
     "data": {
      "text/plain": [
       "'Hello, Sudhakar'"
      ]
     },
     "execution_count": 30,
     "metadata": {},
     "output_type": "execute_result"
    }
   ],
   "source": [
    "def greet(name, /, greeting=\"Hello\"):\n",
    "    return f\"{greeting}, {name}\"\n",
    "\n",
    "greet(\"Sudhakar\")"
   ]
  },
  {
   "cell_type": "code",
   "execution_count": 31,
   "metadata": {},
   "outputs": [
    {
     "data": {
      "text/plain": [
       "'Awesome job, Sudhakar'"
      ]
     },
     "execution_count": 31,
     "metadata": {},
     "output_type": "execute_result"
    }
   ],
   "source": [
    "greet(\"Sudhakar\", greeting=\"Awesome job\")"
   ]
  },
  {
   "cell_type": "code",
   "execution_count": 32,
   "metadata": {},
   "outputs": [
    {
     "ename": "TypeError",
     "evalue": "greet() got some positional-only arguments passed as keyword arguments: 'name'",
     "output_type": "error",
     "traceback": [
      "\u001b[0;31m---------------------------------------------------------------------------\u001b[0m",
      "\u001b[0;31mTypeError\u001b[0m                                 Traceback (most recent call last)",
      "\u001b[0;32m<ipython-input-32-82fb2080df8e>\u001b[0m in \u001b[0;36m<module>\u001b[0;34m\u001b[0m\n\u001b[0;32m----> 1\u001b[0;31m \u001b[0mgreet\u001b[0m\u001b[0;34m(\u001b[0m\u001b[0mname\u001b[0m\u001b[0;34m=\u001b[0m\u001b[0;34m\"Sudhakar\"\u001b[0m\u001b[0;34m,\u001b[0m \u001b[0mgreeting\u001b[0m\u001b[0;34m=\u001b[0m\u001b[0;34m\"Awesome job\"\u001b[0m\u001b[0;34m)\u001b[0m\u001b[0;34m\u001b[0m\u001b[0;34m\u001b[0m\u001b[0m\n\u001b[0m",
      "\u001b[0;31mTypeError\u001b[0m: greet() got some positional-only arguments passed as keyword arguments: 'name'"
     ]
    }
   ],
   "source": [
    "greet(name=\"Sudhakar\", greeting=\"Awesome job\")"
   ]
  },
  {
   "cell_type": "markdown",
   "metadata": {},
   "source": [
    "Positional-only arguments can give you some flexibility when you’re designing functions. First, positional-only arguments make sense when you have arguments that have a natural order but are hard to give good, descriptive names to.\n",
    "\n",
    "Another possible benefit of using positional-only arguments is that you can more easily refactor your functions. In particular, you can change the name of your parameters without worrying that other code depends on those names."
   ]
  },
  {
   "cell_type": "markdown",
   "metadata": {},
   "source": [
    "Example: positional-only, regular, and keyword-only arguments, by specifying them in this order separated by / and *."
   ]
  },
  {
   "cell_type": "code",
   "execution_count": 63,
   "metadata": {},
   "outputs": [
    {
     "data": {
      "text/plain": [
       "'♦♦♦♦♦♦♦♦♦♦♦ Positional-only Arguments ♦♦♦♦♦♦♦♦♦♦♦♦'"
      ]
     },
     "execution_count": 63,
     "metadata": {},
     "output_type": "execute_result"
    }
   ],
   "source": [
    "def headline(text, /, border=\"♦\", *, width=50):\n",
    "    return f\" {text} \".center(width, border)\n",
    "\n",
    "headline(\"Positional-only Arguments\")"
   ]
  },
  {
   "cell_type": "code",
   "execution_count": 64,
   "metadata": {},
   "outputs": [
    {
     "ename": "TypeError",
     "evalue": "headline() got some positional-only arguments passed as keyword arguments: 'text'",
     "output_type": "error",
     "traceback": [
      "\u001b[0;31m---------------------------------------------------------------------------\u001b[0m",
      "\u001b[0;31mTypeError\u001b[0m                                 Traceback (most recent call last)",
      "\u001b[0;32m<ipython-input-64-1bbfa2891161>\u001b[0m in \u001b[0;36m<module>\u001b[0;34m\u001b[0m\n\u001b[0;32m----> 1\u001b[0;31m \u001b[0mheadline\u001b[0m\u001b[0;34m(\u001b[0m\u001b[0mtext\u001b[0m\u001b[0;34m=\u001b[0m\u001b[0;34m\"This doesn't work!\"\u001b[0m\u001b[0;34m)\u001b[0m\u001b[0;34m\u001b[0m\u001b[0;34m\u001b[0m\u001b[0m\n\u001b[0m",
      "\u001b[0;31mTypeError\u001b[0m: headline() got some positional-only arguments passed as keyword arguments: 'text'"
     ]
    }
   ],
   "source": [
    "headline(text=\"This doesn't work!\")"
   ]
  },
  {
   "cell_type": "code",
   "execution_count": 61,
   "metadata": {},
   "outputs": [
    {
     "data": {
      "text/plain": [
       "'=================== Python 3.8 ==================='"
      ]
     },
     "execution_count": 61,
     "metadata": {},
     "output_type": "execute_result"
    }
   ],
   "source": [
    "headline(\"Python 3.8\", \"=\")"
   ]
  },
  {
   "cell_type": "code",
   "execution_count": 65,
   "metadata": {},
   "outputs": [
    {
     "data": {
      "text/plain": [
       "':::::::::::::::::: Real Python :::::::::::::::::::'"
      ]
     },
     "execution_count": 65,
     "metadata": {},
     "output_type": "execute_result"
    }
   ],
   "source": [
    "headline(\"Real Python\", border=\":\")"
   ]
  },
  {
   "cell_type": "code",
   "execution_count": 67,
   "metadata": {},
   "outputs": [
    {
     "data": {
      "text/plain": [
       "'+++++++++++++++ Python +++++++++++++++'"
      ]
     },
     "execution_count": 67,
     "metadata": {},
     "output_type": "execute_result"
    }
   ],
   "source": [
    "headline(\"Python\", \"+\", width=38)"
   ]
  },
  {
   "cell_type": "code",
   "execution_count": 69,
   "metadata": {},
   "outputs": [
    {
     "ename": "TypeError",
     "evalue": "headline() takes from 1 to 2 positional arguments but 3 were given",
     "output_type": "error",
     "traceback": [
      "\u001b[0;31m---------------------------------------------------------------------------\u001b[0m",
      "\u001b[0;31mTypeError\u001b[0m                                 Traceback (most recent call last)",
      "\u001b[0;32m<ipython-input-69-126b97507ac3>\u001b[0m in \u001b[0;36m<module>\u001b[0;34m\u001b[0m\n\u001b[0;32m----> 1\u001b[0;31m \u001b[0mheadline\u001b[0m\u001b[0;34m(\u001b[0m\u001b[0;34m\"Python\"\u001b[0m\u001b[0;34m,\u001b[0m \u001b[0;34m\"-\"\u001b[0m\u001b[0;34m,\u001b[0m \u001b[0;36m38\u001b[0m\u001b[0;34m)\u001b[0m\u001b[0;34m\u001b[0m\u001b[0;34m\u001b[0m\u001b[0m\n\u001b[0m",
      "\u001b[0;31mTypeError\u001b[0m: headline() takes from 1 to 2 positional arguments but 3 were given"
     ]
    }
   ],
   "source": [
    "headline(\"Python\", \"-\", 38)"
   ]
  },
  {
   "cell_type": "markdown",
   "metadata": {},
   "source": [
    "Reference:\n",
    "* Positional-only parameters as Python Syntax: https://www.python.org/dev/peps/pep-0570/\n",
    "* Initial feature applies to when describing APIs: https://www.python.org/dev/peps/pep-0457/"
   ]
  },
  {
   "cell_type": "markdown",
   "metadata": {},
   "source": [
    "## More Precise Types\n",
    "Python’s typing system is quite mature at this point.<br>\n",
    "There are 4 new features added to typing to allow more precise typing."
   ]
  },
  {
   "cell_type": "markdown",
   "metadata": {},
   "source": [
    "**Context:** Python supports optional type hints, typically as annotations on code.  Python treats these annotations as hints. They are not enforced at runtime."
   ]
  },
  {
   "cell_type": "code",
   "execution_count": 71,
   "metadata": {},
   "outputs": [],
   "source": [
    "### Example\n",
    "def double(number: float) -> float:\n",
    "    return 2 * number\n",
    "\n",
    "# function defines argument/param value to be float\n",
    "# function defines return value to be float"
   ]
  },
  {
   "cell_type": "code",
   "execution_count": 73,
   "metadata": {},
   "outputs": [
    {
     "data": {
      "text/plain": [
       "6.28"
      ]
     },
     "execution_count": 73,
     "metadata": {},
     "output_type": "execute_result"
    }
   ],
   "source": [
    "double(3.14)"
   ]
  },
  {
   "cell_type": "code",
   "execution_count": 72,
   "metadata": {},
   "outputs": [
    {
     "data": {
      "text/plain": [
       "\"I'm not a floatI'm not a float\""
      ]
     },
     "execution_count": 72,
     "metadata": {},
     "output_type": "execute_result"
    }
   ],
   "source": [
    "double(\"I'm not a float\")"
   ]
  },
  {
   "cell_type": "markdown",
   "metadata": {},
   "source": [
    "Type hints allow static type checkers like mypy to do type checking of your Python code, without actually running your scripts. This is reminiscent of compilers catching type errors in other languages like Java."
   ]
  },
  {
   "cell_type": "code",
   "execution_count": 74,
   "metadata": {},
   "outputs": [],
   "source": [
    "# conda install -c conda-forge mypy\n",
    "# pip install mypy"
   ]
  },
  {
   "cell_type": "code",
   "execution_count": 3,
   "metadata": {},
   "outputs": [],
   "source": [
    "# Run the type checker -- mypy\n",
    "# mypy test1.py"
   ]
  },
  {
   "cell_type": "code",
   "execution_count": 17,
   "metadata": {},
   "outputs": [],
   "source": [
    "from typing import Literal, Union, overload, Final"
   ]
  },
  {
   "cell_type": "markdown",
   "metadata": {},
   "source": [
    "### Literal types"
   ]
  },
  {
   "cell_type": "markdown",
   "metadata": {},
   "source": [
    "Ability to precisely add types, when string arguments are used to describe specific behavior.\n",
    "\n",
    "**Syntax:**\n",
    "* **Literal**[v1, v2, v3]\n",
    "    * example:\n",
    "        * Literal[38]\n",
    "        * Literal[\"DEBIT\", \"CREDIT\"]\n",
    "        * Literal['r', 'rb', 'w', 'wb']\n",
    "\n",
    "* __Union__[Literal[v1], Literal[v2], Literal[v3]]\n",
    "    * example:\n",
    "        * Union[Literal['r', 'rb', 'w', 'wb'], Literal[\"AMEX\", \"DISCOVER\", \"PAYPAL\", \"VISA\"]]"
   ]
  },
  {
   "cell_type": "code",
   "execution_count": null,
   "metadata": {},
   "outputs": [],
   "source": [
    "# test1.py\n",
    "def draw_line(direction: str) -> None:\n",
    "    if direction == \"horizontal\":\n",
    "        ...  # Draw horizontal line\n",
    "\n",
    "    elif direction == \"vertical\":\n",
    "        ...  # Draw vertical line\n",
    "\n",
    "    else:\n",
    "        raise ValueError(f\"invalid direction {direction!r}\")\n",
    "\n",
    "draw_line(\"up\")"
   ]
  },
  {
   "cell_type": "markdown",
   "metadata": {},
   "source": [
    "**Output**:\n",
    "Success: no issues found in 1 source file"
   ]
  },
  {
   "cell_type": "code",
   "execution_count": null,
   "metadata": {},
   "outputs": [],
   "source": [
    "# test1-fixed.py\n",
    "from typing import Literal\n",
    "\n",
    "def draw_line(direction: Literal[\"horizontal\", \"vertical\"]) -> None:\n",
    "    if direction == \"horizontal\":\n",
    "        ...  # Draw horizontal line\n",
    "\n",
    "    elif direction == \"vertical\":\n",
    "        ...  # Draw vertical line\n",
    "\n",
    "    else:\n",
    "        raise ValueError(f\"invalid direction {direction!r}\")\n",
    "\n",
    "draw_line(\"up\")"
   ]
  },
  {
   "cell_type": "markdown",
   "metadata": {},
   "source": [
    "**Output:** test1-fixed.py:13: error: Argument 1 to \"draw_line\" has incompatible type \"Literal['up']\"; expected \"Union[Literal['horizontal'], Literal['vertical']]\"\n",
    "Found 1 error in 1 file (checked 1 source file)"
   ]
  },
  {
   "cell_type": "code",
   "execution_count": 8,
   "metadata": {},
   "outputs": [],
   "source": [
    "# another better way to write the above\n",
    "DIRECTION = Literal[\"horizontal\", \"vertical\"]\n",
    "def draw_line(direction: DIRECTION) -> None:\n",
    "    ..."
   ]
  },
  {
   "cell_type": "markdown",
   "metadata": {},
   "source": [
    "### Overloading"
   ]
  },
  {
   "cell_type": "markdown",
   "metadata": {},
   "source": [
    "If the type of the return value of a function depends on the input arguments, can use @overloading to handle it"
   ]
  },
  {
   "cell_type": "code",
   "execution_count": 20,
   "metadata": {},
   "outputs": [],
   "source": [
    "# result of get_result() will be either str or int. \n",
    "# depends on how code will be called with a literal True or False for to_roman param\n",
    "\n",
    "ARABIC_TO_ROMAN = [(1000, \"M\"), (900, \"CM\"), (500, \"D\"), (400, \"CD\"),\n",
    "                   (100, \"C\"), (90, \"XC\"), (50, \"L\"), (40, \"XL\"),\n",
    "                   (10, \"X\"), (9, \"IX\"), (5, \"V\"), (4, \"IV\"), (1, \"I\")]\n",
    "\n",
    "def _convert_to_roman_numeral(number: int) -> str:\n",
    "    \"\"\"Convert number to a roman numeral string\"\"\"\n",
    "    result = list()\n",
    "    for arabic, roman in ARABIC_TO_ROMAN:\n",
    "        count, number = divmod(number, arabic)\n",
    "        result.append(roman * count)\n",
    "    return \"\".join(result)\n",
    "\n",
    "def get_result(num_1: int, num_2: int, to_roman: bool = True) -> Union[str, int]:\n",
    "    \"\"\"Add two numbers\"\"\"\n",
    "    result = num_1 + num_2\n",
    "\n",
    "    if to_roman:\n",
    "        return _convert_to_roman_numeral(result)\n",
    "    else:\n",
    "        return result"
   ]
  },
  {
   "cell_type": "code",
   "execution_count": 21,
   "metadata": {},
   "outputs": [
    {
     "data": {
      "text/plain": [
       "'CLXIV'"
      ]
     },
     "execution_count": 21,
     "metadata": {},
     "output_type": "execute_result"
    }
   ],
   "source": [
    "get_result(5, 159)"
   ]
  },
  {
   "cell_type": "code",
   "execution_count": 22,
   "metadata": {},
   "outputs": [
    {
     "data": {
      "text/plain": [
       "164"
      ]
     },
     "execution_count": 22,
     "metadata": {},
     "output_type": "execute_result"
    }
   ],
   "source": [
    "get_result(5, 159, False)"
   ]
  },
  {
   "cell_type": "code",
   "execution_count": 14,
   "metadata": {},
   "outputs": [],
   "source": [
    "@overload\n",
    "def add(num_1: int, num_2: int, to_roman: Literal[True]) -> str: ...\n",
    "@overload\n",
    "def add(num_1: int, num_2: int, to_roman: Literal[False]) -> int: ...\n",
    "\n",
    "def add(num_1: int, num_2: int, to_roman: bool = True) -> Union[str, int]:\n",
    "    \"\"\"Add two numbers\"\"\"\n",
    "    result = num_1 + num_2\n",
    "\n",
    "    if to_roman:\n",
    "        return _convert_to_roman_numeral(result)\n",
    "    else:\n",
    "        return result"
   ]
  },
  {
   "cell_type": "markdown",
   "metadata": {},
   "source": [
    "### Final objects"
   ]
  },
  {
   "cell_type": "markdown",
   "metadata": {},
   "source": [
    "This qualifier specifies that a variable or attribute should not be reassigned, redefined, or overridden. "
   ]
  },
  {
   "cell_type": "code",
   "execution_count": 19,
   "metadata": {},
   "outputs": [],
   "source": [
    "# The following is a typing error:\n",
    "ID: Final = 1\n",
    "...\n",
    "\n",
    "ID += 1"
   ]
  },
  {
   "cell_type": "markdown",
   "metadata": {},
   "source": [
    "A @final decorator that can be applied to classes and methods. Classes decorated with @final can’t be subclassed, while @final methods can’t be overridden by subclasses."
   ]
  },
  {
   "cell_type": "code",
   "execution_count": 23,
   "metadata": {},
   "outputs": [],
   "source": [
    "from typing import final\n",
    "\n",
    "@final\n",
    "class Base:\n",
    "    ...\n",
    "\n",
    "class Sub(Base):\n",
    "    ..."
   ]
  },
  {
   "cell_type": "markdown",
   "metadata": {},
   "source": [
    "### Typed Dictionaries"
   ]
  },
  {
   "cell_type": "code",
   "execution_count": 34,
   "metadata": {},
   "outputs": [
    {
     "name": "stdout",
     "output_type": "stream",
     "text": [
      "{\n",
      "  \"version\": \"3.8\",\n",
      "  \"release_year\": 2019\n",
      "}\n",
      "{\n",
      "  \"version\": \"3.8\",\n",
      "  \"release_year\": \"2019\"\n",
      "}\n"
     ]
    }
   ],
   "source": [
    "# Typical typing for Dictionary\n",
    "\n",
    "from typing import Dict, Any\n",
    "import json\n",
    "\n",
    "def print_dict(d : Dict[str, Any]) -> None:\n",
    "    print(json.dumps(d, indent=2))\n",
    "\n",
    "py38 = {\"version\": \"3.8\", \"release_year\": 2019}\n",
    "print_dict(py38)\n",
    "\n",
    "py37 = {\"version\": \"3.8\", \"release_year\": \"2019\"}\n",
    "print_dict(py37)\n",
    "\n",
    "# Note the values for version is string vs. release year is an int\n",
    "# This can't be typed well using Dict."
   ]
  },
  {
   "cell_type": "markdown",
   "metadata": {},
   "source": [
    "**Output :** Success: no issues found in 1 source file"
   ]
  },
  {
   "cell_type": "code",
   "execution_count": 33,
   "metadata": {},
   "outputs": [
    {
     "name": "stdout",
     "output_type": "stream",
     "text": [
      "{\n",
      "  \"version\": \"3.8\",\n",
      "  \"release_year\": 2019\n",
      "}\n",
      "{\n",
      "  \"version\": \"3.8\",\n",
      "  \"release_year\": \"2019\"\n",
      "}\n"
     ]
    }
   ],
   "source": [
    "# New Approach\n",
    "\n",
    "from typing import TypedDict\n",
    "import json\n",
    "\n",
    "class PythonVersion(TypedDict):\n",
    "    version: str\n",
    "    release_year: int\n",
    "\n",
    "def print_dict(d : PythonVersion) -> None:\n",
    "    print(json.dumps(d, indent=2))\n",
    "\n",
    "py38 = PythonVersion(version=\"3.8\", release_year=2019)\n",
    "print_dict(py38)\n",
    "\n",
    "py37 = PythonVersion(version=\"3.8\", release_year=\"2019\")\n",
    "print_dict(py37)"
   ]
  },
  {
   "cell_type": "markdown",
   "metadata": {},
   "source": [
    "**Output :** <br>\n",
    "test2-fixed.py:14: error: Incompatible types (expression has type \"str\", TypedDict item \"release_year\" has type \"int\")<br>\n",
    "Found 1 error in 1 file (checked 1 source file)"
   ]
  },
  {
   "cell_type": "markdown",
   "metadata": {},
   "source": [
    "### Protocols"
   ]
  },
  {
   "cell_type": "markdown",
   "metadata": {},
   "source": [
    "Protocols are a way of formalizing Python’s support for duck typing:<br>"
   ]
  },
  {
   "cell_type": "code",
   "execution_count": null,
   "metadata": {},
   "outputs": [],
   "source": [
    "def len(obj):\n",
    "    return obj.__len__()"
   ]
  },
  {
   "cell_type": "markdown",
   "metadata": {},
   "source": [
    "len() can return the length of any object that has implemented the .__len__() method. How can we add type hints to len(), and in particular the obj argument?"
   ]
  },
  {
   "cell_type": "markdown",
   "metadata": {},
   "source": [
    "A protocol specifies one or more methods that must be implemented. "
   ]
  },
  {
   "cell_type": "code",
   "execution_count": null,
   "metadata": {},
   "outputs": [],
   "source": [
    "from typing import Protocol\n",
    "\n",
    "class Sized(Protocol):\n",
    "    def __len__(self) -> int: ...\n",
    "\n",
    "def len(obj: Sized) -> int:\n",
    "    return obj.__len__()"
   ]
  },
  {
   "cell_type": "markdown",
   "metadata": {},
   "source": [
    "Reference:\n",
    "- https://www.python.org/dev/peps/pep-0544/\n",
    "- https://mypy.readthedocs.io/en/latest/protocols.html\n",
    "- https://realpython.com/python-type-checking/#duck-types-and-protocols"
   ]
  },
  {
   "cell_type": "markdown",
   "metadata": {},
   "source": [
    "## Simpler Debugging With f-Strings <a name=\"4\"></a>\n",
    "f-strings were introduced in Python 3.6, and have become very popular."
   ]
  },
  {
   "cell_type": "code",
   "execution_count": 37,
   "metadata": {},
   "outputs": [
    {
     "data": {
      "text/plain": [
       "'This is a formatted string'"
      ]
     },
     "execution_count": 37,
     "metadata": {},
     "output_type": "execute_result"
    }
   ],
   "source": [
    "style = \"formatted\"\n",
    "f\"This is a {style} string\""
   ]
  },
  {
   "cell_type": "code",
   "execution_count": 38,
   "metadata": {},
   "outputs": [
    {
     "data": {
      "text/plain": [
       "'A circle with radius 3.6 has area 40.72'"
      ]
     },
     "execution_count": 38,
     "metadata": {},
     "output_type": "execute_result"
    }
   ],
   "source": [
    "import math\n",
    "r = 3.6\n",
    "f\"A circle with radius {r} has area {math.pi * r * r:.2f}\""
   ]
  },
  {
   "cell_type": "code",
   "execution_count": 41,
   "metadata": {},
   "outputs": [
    {
     "name": "stdout",
     "output_type": "stream",
     "text": [
      "Diameter 7.2 gives circumference 22.62\n",
      "7.2\n"
     ]
    }
   ],
   "source": [
    "# assignment expressions used inside f-strings should be surrounded with parentheses:\n",
    "print(f\"Diameter {(diam := 2 * r)} gives circumference {math.pi * diam:.2f}\")\n",
    "print(diam)"
   ]
  },
  {
   "cell_type": "markdown",
   "metadata": {},
   "source": [
    "add = at the end of an expression to use the new debugging specifier. <br>\n",
    "prints both the expression and its value:"
   ]
  },
  {
   "cell_type": "code",
   "execution_count": 45,
   "metadata": {},
   "outputs": [
    {
     "name": "stdout",
     "output_type": "stream",
     "text": [
      "python=3.7\n",
      "python=3.8\n"
     ]
    }
   ],
   "source": [
    "# Legacy Approach\n",
    "python = 3.7\n",
    "print(f\"python={python}\")\n",
    "\n",
    "# New Approach\n",
    "python = 3.8\n",
    "print(f\"{python=}\")"
   ]
  },
  {
   "cell_type": "code",
   "execution_count": 46,
   "metadata": {},
   "outputs": [
    {
     "name": "stdout",
     "output_type": "stream",
     "text": [
      "name = 'Eric'\n",
      "name =       Eric\n"
     ]
    }
   ],
   "source": [
    "# add spaces around =, and use format specifiers as usual\n",
    "\n",
    "name = \"Eric\"\n",
    "print(f\"{name = }\")\n",
    "print(f\"{name = :>10}\")"
   ]
  },
  {
   "cell_type": "code",
   "execution_count": 47,
   "metadata": {},
   "outputs": [
    {
     "data": {
      "text/plain": [
       "\"name.upper()[::-1] = 'CIRE'\""
      ]
     },
     "execution_count": 47,
     "metadata": {},
     "output_type": "execute_result"
    }
   ],
   "source": [
    "# Complex example\n",
    "\n",
    "f\"{name.upper()[::-1] = }\""
   ]
  },
  {
   "cell_type": "markdown",
   "metadata": {},
   "source": [
    "## Other Pretty Cool Features"
   ]
  },
  {
   "cell_type": "markdown",
   "metadata": {},
   "source": [
    "### importlib.metadata"
   ]
  },
  {
   "cell_type": "code",
   "execution_count": 50,
   "metadata": {},
   "outputs": [
    {
     "data": {
      "text/plain": [
       "'19.3.1'"
      ]
     },
     "execution_count": 50,
     "metadata": {},
     "output_type": "execute_result"
    }
   ],
   "source": [
    "from importlib import metadata\n",
    "metadata.version(\"pip\")"
   ]
  },
  {
   "cell_type": "code",
   "execution_count": 57,
   "metadata": {},
   "outputs": [
    {
     "name": "stdout",
     "output_type": "stream",
     "text": [
      "<class 'email.message.Message'>\n",
      "['Metadata-Version', 'Name', 'Version', 'Summary', 'Home-page', 'Author', 'Author-email', 'License', 'Description', 'Keywords', 'Platform', 'Classifier', 'Classifier', 'Classifier', 'Classifier', 'Classifier', 'Classifier', 'Classifier', 'Classifier', 'Classifier', 'Classifier', 'Classifier', 'Classifier', 'Classifier', 'Classifier', 'Requires-Python']/t"
     ]
    }
   ],
   "source": [
    "pip_metadata = metadata.metadata(\"pip\")\n",
    "print(type(pip_metadata))\n",
    "print(list(pip_metadata), end=\"/t\")"
   ]
  },
  {
   "cell_type": "code",
   "execution_count": 61,
   "metadata": {},
   "outputs": [
    {
     "name": "stdout",
     "output_type": "stream",
     "text": [
      "https://pip.pypa.io/\n"
     ]
    }
   ],
   "source": [
    "print(pip_metadata['Home-page'])"
   ]
  },
  {
   "cell_type": "code",
   "execution_count": 62,
   "metadata": {},
   "outputs": [
    {
     "data": {
      "text/plain": [
       "'>=2.7,!=3.0.*,!=3.1.*,!=3.2.*,!=3.3.*,!=3.4.*'"
      ]
     },
     "execution_count": 62,
     "metadata": {},
     "output_type": "execute_result"
    }
   ],
   "source": [
    "pip_metadata[\"Requires-Python\"]"
   ]
  },
  {
   "cell_type": "code",
   "execution_count": 63,
   "metadata": {},
   "outputs": [
    {
     "data": {
      "text/plain": [
       "423"
      ]
     },
     "execution_count": 63,
     "metadata": {},
     "output_type": "execute_result"
    }
   ],
   "source": [
    "len(metadata.files(\"pip\"))"
   ]
  },
  {
   "cell_type": "code",
   "execution_count": 65,
   "metadata": {},
   "outputs": [
    {
     "data": {
      "text/plain": [
       "[PackagePath('mypy/__init__.py'),\n",
       " PackagePath('mypy/__main__.py'),\n",
       " PackagePath('mypy/api.py'),\n",
       " PackagePath('mypy/applytype.py'),\n",
       " PackagePath('mypy/argmap.py'),\n",
       " PackagePath('mypy/binder.py'),\n",
       " PackagePath('mypy/bogus_type.py'),\n",
       " PackagePath('mypy/build.py'),\n",
       " PackagePath('mypy/checker.py'),\n",
       " PackagePath('mypy/checkexpr.py'),\n",
       " PackagePath('mypy/checkmember.py'),\n",
       " PackagePath('mypy/checkstrformat.py'),\n",
       " PackagePath('mypy/config_parser.py'),\n",
       " PackagePath('mypy/constraints.py'),\n",
       " PackagePath('mypy/defaults.py'),\n",
       " PackagePath('mypy/dmypy/__init__.py'),\n",
       " PackagePath('mypy/dmypy/__main__.py'),\n",
       " PackagePath('mypy/dmypy/client.py'),\n",
       " PackagePath('mypy/dmypy_os.py'),\n",
       " PackagePath('mypy/dmypy_server.py'),\n",
       " PackagePath('mypy/dmypy_util.py'),\n",
       " PackagePath('mypy/erasetype.py'),\n",
       " PackagePath('mypy/errorcodes.py'),\n",
       " PackagePath('mypy/errors.py'),\n",
       " PackagePath('mypy/expandtype.py'),\n",
       " PackagePath('mypy/exprtotype.py'),\n",
       " PackagePath('mypy/fastparse.py'),\n",
       " PackagePath('mypy/fastparse2.py'),\n",
       " PackagePath('mypy/find_sources.py'),\n",
       " PackagePath('mypy/fixup.py'),\n",
       " PackagePath('mypy/freetree.py'),\n",
       " PackagePath('mypy/fscache.py'),\n",
       " PackagePath('mypy/fswatcher.py'),\n",
       " PackagePath('mypy/gclogger.py'),\n",
       " PackagePath('mypy/git.py'),\n",
       " PackagePath('mypy/indirection.py'),\n",
       " PackagePath('mypy/infer.py'),\n",
       " PackagePath('mypy/ipc.py'),\n",
       " PackagePath('mypy/join.py'),\n",
       " PackagePath('mypy/literals.py'),\n",
       " PackagePath('mypy/lookup.py'),\n",
       " PackagePath('mypy/main.py'),\n",
       " PackagePath('mypy/maptype.py'),\n",
       " PackagePath('mypy/meet.py'),\n",
       " PackagePath('mypy/memprofile.py'),\n",
       " PackagePath('mypy/message_registry.py'),\n",
       " PackagePath('mypy/messages.py'),\n",
       " PackagePath('mypy/metastore.py'),\n",
       " PackagePath('mypy/mixedtraverser.py'),\n",
       " PackagePath('mypy/modulefinder.py'),\n",
       " PackagePath('mypy/moduleinfo.py'),\n",
       " PackagePath('mypy/moduleinspect.py'),\n",
       " PackagePath('mypy/mro.py'),\n",
       " PackagePath('mypy/nodes.py'),\n",
       " PackagePath('mypy/options.py'),\n",
       " PackagePath('mypy/parse.py'),\n",
       " PackagePath('mypy/plugin.py'),\n",
       " PackagePath('mypy/plugins/__init__.py'),\n",
       " PackagePath('mypy/plugins/attrs.py'),\n",
       " PackagePath('mypy/plugins/common.py'),\n",
       " PackagePath('mypy/plugins/ctypes.py'),\n",
       " PackagePath('mypy/plugins/dataclasses.py'),\n",
       " PackagePath('mypy/plugins/default.py'),\n",
       " PackagePath('mypy/plugins/enums.py'),\n",
       " PackagePath('mypy/reachability.py'),\n",
       " PackagePath('mypy/renaming.py'),\n",
       " PackagePath('mypy/report.py'),\n",
       " PackagePath('mypy/sametypes.py'),\n",
       " PackagePath('mypy/scope.py'),\n",
       " PackagePath('mypy/semanal.py'),\n",
       " PackagePath('mypy/semanal_classprop.py'),\n",
       " PackagePath('mypy/semanal_enum.py'),\n",
       " PackagePath('mypy/semanal_infer.py'),\n",
       " PackagePath('mypy/semanal_main.py'),\n",
       " PackagePath('mypy/semanal_namedtuple.py'),\n",
       " PackagePath('mypy/semanal_newtype.py'),\n",
       " PackagePath('mypy/semanal_pass1.py'),\n",
       " PackagePath('mypy/semanal_shared.py'),\n",
       " PackagePath('mypy/semanal_typeargs.py'),\n",
       " PackagePath('mypy/semanal_typeddict.py'),\n",
       " PackagePath('mypy/server/__init__.py'),\n",
       " PackagePath('mypy/server/astdiff.py'),\n",
       " PackagePath('mypy/server/astmerge.py'),\n",
       " PackagePath('mypy/server/aststrip.py'),\n",
       " PackagePath('mypy/server/deps.py'),\n",
       " PackagePath('mypy/server/mergecheck.py'),\n",
       " PackagePath('mypy/server/objgraph.py'),\n",
       " PackagePath('mypy/server/subexpr.py'),\n",
       " PackagePath('mypy/server/target.py'),\n",
       " PackagePath('mypy/server/trigger.py'),\n",
       " PackagePath('mypy/server/update.py'),\n",
       " PackagePath('mypy/sharedparse.py'),\n",
       " PackagePath('mypy/sitepkgs.py'),\n",
       " PackagePath('mypy/solve.py'),\n",
       " PackagePath('mypy/split_namespace.py'),\n",
       " PackagePath('mypy/state.py'),\n",
       " PackagePath('mypy/stats.py'),\n",
       " PackagePath('mypy/strconv.py'),\n",
       " PackagePath('mypy/stubdoc.py'),\n",
       " PackagePath('mypy/stubgen.py'),\n",
       " PackagePath('mypy/stubgenc.py'),\n",
       " PackagePath('mypy/stubutil.py'),\n",
       " PackagePath('mypy/subtypes.py'),\n",
       " PackagePath('mypy/suggestions.py'),\n",
       " PackagePath('mypy/test/__init__.py'),\n",
       " PackagePath('mypy/test/collect.py'),\n",
       " PackagePath('mypy/test/config.py'),\n",
       " PackagePath('mypy/test/data.py'),\n",
       " PackagePath('mypy/test/helpers.py'),\n",
       " PackagePath('mypy/test/testapi.py'),\n",
       " PackagePath('mypy/test/testargs.py'),\n",
       " PackagePath('mypy/test/testcheck.py'),\n",
       " PackagePath('mypy/test/testcmdline.py'),\n",
       " PackagePath('mypy/test/testdaemon.py'),\n",
       " PackagePath('mypy/test/testdeps.py'),\n",
       " PackagePath('mypy/test/testdiff.py'),\n",
       " PackagePath('mypy/test/testerrorstream.py'),\n",
       " PackagePath('mypy/test/testfinegrained.py'),\n",
       " PackagePath('mypy/test/testfinegrainedcache.py'),\n",
       " PackagePath('mypy/test/testformatter.py'),\n",
       " PackagePath('mypy/test/testgraph.py'),\n",
       " PackagePath('mypy/test/testinfer.py'),\n",
       " PackagePath('mypy/test/testipc.py'),\n",
       " PackagePath('mypy/test/testmerge.py'),\n",
       " PackagePath('mypy/test/testmodulefinder.py'),\n",
       " PackagePath('mypy/test/testmoduleinfo.py'),\n",
       " PackagePath('mypy/test/testmypyc.py'),\n",
       " PackagePath('mypy/test/testparse.py'),\n",
       " PackagePath('mypy/test/testpep561.py'),\n",
       " PackagePath('mypy/test/testpythoneval.py'),\n",
       " PackagePath('mypy/test/testreports.py'),\n",
       " PackagePath('mypy/test/testsamples.py'),\n",
       " PackagePath('mypy/test/testsemanal.py'),\n",
       " PackagePath('mypy/test/testsolve.py'),\n",
       " PackagePath('mypy/test/teststubgen.py'),\n",
       " PackagePath('mypy/test/testsubtypes.py'),\n",
       " PackagePath('mypy/test/testtransform.py'),\n",
       " PackagePath('mypy/test/testtypegen.py'),\n",
       " PackagePath('mypy/test/testtypes.py'),\n",
       " PackagePath('mypy/test/typefixture.py'),\n",
       " PackagePath('mypy/test/update.py'),\n",
       " PackagePath('mypy/test/visitors.py'),\n",
       " PackagePath('mypy/traverser.py'),\n",
       " PackagePath('mypy/treetransform.py'),\n",
       " PackagePath('mypy/tvar_scope.py'),\n",
       " PackagePath('mypy/type_visitor.py'),\n",
       " PackagePath('mypy/typeanal.py'),\n",
       " PackagePath('mypy/typeops.py'),\n",
       " PackagePath('mypy/types.py'),\n",
       " PackagePath('mypy/typeshed/tests/check_consistent.py'),\n",
       " PackagePath('mypy/typeshed/tests/mypy_selftest.py'),\n",
       " PackagePath('mypy/typeshed/tests/mypy_test.py'),\n",
       " PackagePath('mypy/typeshed/tests/pytype_test.py'),\n",
       " PackagePath('mypy/typestate.py'),\n",
       " PackagePath('mypy/typetraverser.py'),\n",
       " PackagePath('mypy/typevars.py'),\n",
       " PackagePath('mypy/util.py'),\n",
       " PackagePath('mypy/version.py'),\n",
       " PackagePath('mypy/visitor.py'),\n",
       " PackagePath('mypyc/__init__.py'),\n",
       " PackagePath('mypyc/analysis.py'),\n",
       " PackagePath('mypyc/build.py'),\n",
       " PackagePath('mypyc/common.py'),\n",
       " PackagePath('mypyc/crash.py'),\n",
       " PackagePath('mypyc/cstring.py'),\n",
       " PackagePath('mypyc/emit.py'),\n",
       " PackagePath('mypyc/emitclass.py'),\n",
       " PackagePath('mypyc/emitfunc.py'),\n",
       " PackagePath('mypyc/emitmodule.py'),\n",
       " PackagePath('mypyc/emitwrapper.py'),\n",
       " PackagePath('mypyc/errors.py'),\n",
       " PackagePath('mypyc/exceptions.py'),\n",
       " PackagePath('mypyc/genops.py'),\n",
       " PackagePath('mypyc/genops_for.py'),\n",
       " PackagePath('mypyc/namegen.py'),\n",
       " PackagePath('mypyc/ops.py'),\n",
       " PackagePath('mypyc/ops_dict.py'),\n",
       " PackagePath('mypyc/ops_exc.py'),\n",
       " PackagePath('mypyc/ops_int.py'),\n",
       " PackagePath('mypyc/ops_list.py'),\n",
       " PackagePath('mypyc/ops_misc.py'),\n",
       " PackagePath('mypyc/ops_primitive.py'),\n",
       " PackagePath('mypyc/ops_set.py'),\n",
       " PackagePath('mypyc/ops_str.py'),\n",
       " PackagePath('mypyc/ops_tuple.py'),\n",
       " PackagePath('mypyc/options.py'),\n",
       " PackagePath('mypyc/prebuildvisitor.py'),\n",
       " PackagePath('mypyc/refcount.py'),\n",
       " PackagePath('mypyc/rt_subtype.py'),\n",
       " PackagePath('mypyc/sametype.py'),\n",
       " PackagePath('mypyc/subtype.py'),\n",
       " PackagePath('mypyc/test/__init__.py'),\n",
       " PackagePath('mypyc/test/config.py'),\n",
       " PackagePath('mypyc/test/test_analysis.py'),\n",
       " PackagePath('mypyc/test/test_commandline.py'),\n",
       " PackagePath('mypyc/test/test_emit.py'),\n",
       " PackagePath('mypyc/test/test_emitfunc.py'),\n",
       " PackagePath('mypyc/test/test_emitwrapper.py'),\n",
       " PackagePath('mypyc/test/test_exceptions.py'),\n",
       " PackagePath('mypyc/test/test_external.py'),\n",
       " PackagePath('mypyc/test/test_genops.py'),\n",
       " PackagePath('mypyc/test/test_namegen.py'),\n",
       " PackagePath('mypyc/test/test_refcount.py'),\n",
       " PackagePath('mypyc/test/test_run.py'),\n",
       " PackagePath('mypyc/test/test_serialization.py'),\n",
       " PackagePath('mypyc/test/test_tuplename.py'),\n",
       " PackagePath('mypyc/test/testutil.py'),\n",
       " PackagePath('mypyc/uninit.py')]"
      ]
     },
     "execution_count": 65,
     "metadata": {},
     "output_type": "execute_result"
    }
   ],
   "source": [
    "[p for p in metadata.files(\"mypy\") if p.suffix == \".py\"]"
   ]
  },
  {
   "cell_type": "code",
   "execution_count": 67,
   "metadata": {},
   "outputs": [
    {
     "data": {
      "text/plain": [
       "['typed-ast (<1.5.0,>=1.4.0)',\n",
       " 'typing-extensions (>=3.7.4)',\n",
       " 'mypy-extensions (<0.5.0,>=0.4.3)',\n",
       " \"psutil (>=4.0) ; extra == 'dmypy'\"]"
      ]
     },
     "execution_count": 67,
     "metadata": {},
     "output_type": "execute_result"
    }
   ],
   "source": [
    "metadata.requires(\"mypy\")"
   ]
  },
  {
   "cell_type": "markdown",
   "metadata": {},
   "source": [
    "### New and Improved math and statistics Functions"
   ]
  },
  {
   "cell_type": "code",
   "execution_count": 68,
   "metadata": {},
   "outputs": [
    {
     "name": "stdout",
     "output_type": "stream",
     "text": [
      "784\n"
     ]
    },
    {
     "data": {
      "text/plain": [
       "784"
      ]
     },
     "execution_count": 68,
     "metadata": {},
     "output_type": "execute_result"
    }
   ],
   "source": [
    "# Legacy\n",
    "print(2 * 8 * 7 * 7)\n",
    "\n",
    "# New\n",
    "import math\n",
    "math.prod((2, 8, 7, 7))"
   ]
  },
  {
   "cell_type": "code",
   "execution_count": 70,
   "metadata": {},
   "outputs": [
    {
     "name": "stdout",
     "output_type": "stream",
     "text": [
      "3.0\n",
      "3.872983346207417\n",
      "3\n",
      "3\n"
     ]
    }
   ],
   "source": [
    "# use isqrt() to find the integer part of square roots:\n",
    "print(math.sqrt(9))  # always returns float\n",
    "print(math.sqrt(15))\n",
    "\n",
    "print(math.isqrt(9)) # always returns integer, truncates the answer down to the next integer\n",
    "print(math.isqrt(15))"
   ]
  },
  {
   "cell_type": "code",
   "execution_count": 73,
   "metadata": {},
   "outputs": [
    {
     "name": "stdout",
     "output_type": "stream",
     "text": [
      "14.142135623730951\n",
      "35.79106033634656\n",
      "22.02271554554524\n"
     ]
    }
   ],
   "source": [
    "point_1 = (16, 25, 20)\n",
    "point_2 = (8, 15, 14)\n",
    "\n",
    "print(math.dist(point_1, point_2))\n",
    "print(math.hypot(*point_1))\n",
    "print(math.hypot(*point_2))"
   ]
  },
  {
   "cell_type": "code",
   "execution_count": 75,
   "metadata": {},
   "outputs": [
    {
     "name": "stdout",
     "output_type": "stream",
     "text": [
      "4.25\n",
      "3.013668912157617\n",
      "[9, 2, 1]\n",
      "[1.25, 2.5, 8.5]\n"
     ]
    }
   ],
   "source": [
    "import statistics\n",
    "data = [9, 3, 2, 1, 1, 2, 7, 9]\n",
    "\n",
    "print(statistics.fmean(data))\n",
    "print(statistics.geometric_mean(data))\n",
    "print(statistics.multimode(data))\n",
    "print(statistics.quantiles(data, n=4))"
   ]
  },
  {
   "cell_type": "markdown",
   "metadata": {},
   "source": [
    "##### Python 3.7\n",
    "version = \"3.7\"\n",
    "version is \"3.7\"\n",
    "\n",
    "##### Output: False"
   ]
  },
  {
   "cell_type": "code",
   "execution_count": 79,
   "metadata": {},
   "outputs": [
    {
     "name": "stderr",
     "output_type": "stream",
     "text": [
      "<>:3: SyntaxWarning: \"is\" with a literal. Did you mean \"==\"?\n",
      "<>:3: SyntaxWarning: \"is\" with a literal. Did you mean \"==\"?\n",
      "<ipython-input-79-9d7e7f6e8436>:3: SyntaxWarning: \"is\" with a literal. Did you mean \"==\"?\n",
      "  version is \"3.8\"\n"
     ]
    },
    {
     "data": {
      "text/plain": [
       "True"
      ]
     },
     "execution_count": 79,
     "metadata": {},
     "output_type": "execute_result"
    }
   ],
   "source": [
    "# Python 3.8\n",
    "version = \"3.8\"\n",
    "version is \"3.8\"\n",
    "\n",
    "version == \"3.8\""
   ]
  },
  {
   "cell_type": "code",
   "execution_count": 80,
   "metadata": {},
   "outputs": [
    {
     "name": "stderr",
     "output_type": "stream",
     "text": [
      "<>:2: SyntaxWarning: 'tuple' object is not callable; perhaps you missed a comma?\n",
      "<>:2: SyntaxWarning: 'tuple' object is not callable; perhaps you missed a comma?\n",
      "<ipython-input-80-5d07b90b6542>:2: SyntaxWarning: 'tuple' object is not callable; perhaps you missed a comma?\n",
      "  (1, 3)\n"
     ]
    },
    {
     "ename": "TypeError",
     "evalue": "'tuple' object is not callable",
     "output_type": "error",
     "traceback": [
      "\u001b[0;31m---------------------------------------------------------------------------\u001b[0m",
      "\u001b[0;31mTypeError\u001b[0m                                 Traceback (most recent call last)",
      "\u001b[0;32m<ipython-input-80-5d07b90b6542>\u001b[0m in \u001b[0;36m<module>\u001b[0;34m\u001b[0m\n\u001b[1;32m      1\u001b[0m [\n\u001b[0;32m----> 2\u001b[0;31m    \u001b[0;34m(\u001b[0m\u001b[0;36m1\u001b[0m\u001b[0;34m,\u001b[0m \u001b[0;36m3\u001b[0m\u001b[0;34m)\u001b[0m\u001b[0;34m\u001b[0m\u001b[0;34m\u001b[0m\u001b[0m\n\u001b[0m\u001b[1;32m      3\u001b[0m    \u001b[0;34m(\u001b[0m\u001b[0;36m2\u001b[0m\u001b[0;34m,\u001b[0m \u001b[0;36m4\u001b[0m\u001b[0;34m)\u001b[0m\u001b[0;34m\u001b[0m\u001b[0;34m\u001b[0m\u001b[0m\n\u001b[1;32m      4\u001b[0m ]\n",
      "\u001b[0;31mTypeError\u001b[0m: 'tuple' object is not callable"
     ]
    }
   ],
   "source": [
    "[\n",
    "   (1, 3)\n",
    "   (2, 4)\n",
    "]"
   ]
  },
  {
   "cell_type": "markdown",
   "metadata": {},
   "source": [
    "There are several optimizations made for Python 3.8. Some that make code run faster. Others reduce the memory footprint. For example, looking up fields in a namedtuple is significantly faster in Python 3.8 compared with Python 3.7"
   ]
  }
 ],
 "metadata": {
  "kernelspec": {
   "display_name": "Python [conda env:py38] *",
   "language": "python",
   "name": "conda-env-py38-py"
  },
  "language_info": {
   "codemirror_mode": {
    "name": "ipython",
    "version": 3
   },
   "file_extension": ".py",
   "mimetype": "text/x-python",
   "name": "python",
   "nbconvert_exporter": "python",
   "pygments_lexer": "ipython3",
   "version": "3.8.0"
  },
  "toc": {
   "base_numbering": 1,
   "nav_menu": {
    "height": "165px",
    "width": "293px"
   },
   "number_sections": true,
   "sideBar": true,
   "skip_h1_title": false,
   "title_cell": "Table of Contents",
   "title_sidebar": "Contents",
   "toc_cell": false,
   "toc_position": {
    "height": "calc(100% - 180px)",
    "left": "10px",
    "top": "150px",
    "width": "185.55px"
   },
   "toc_section_display": true,
   "toc_window_display": false
  }
 },
 "nbformat": 4,
 "nbformat_minor": 2
}
