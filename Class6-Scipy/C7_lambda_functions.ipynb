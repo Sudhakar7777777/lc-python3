{
 "cells": [
  {
   "cell_type": "markdown",
   "metadata": {},
   "source": [
    "# Lambda function\n",
    "### More of a temporary throw away function"
   ]
  },
  {
   "cell_type": "code",
   "execution_count": 1,
   "metadata": {},
   "outputs": [
    {
     "name": "stdout",
     "output_type": "stream",
     "text": [
      "3\n"
     ]
    }
   ],
   "source": [
    "add_one = lambda x: x + 1\n",
    "yy = add_one(2)\n",
    "print(yy)"
   ]
  },
  {
   "cell_type": "code",
   "execution_count": 2,
   "metadata": {},
   "outputs": [],
   "source": [
    "# It is like a function without any name\n",
    "# takes x as inpout and returns x + 1"
   ]
  },
  {
   "cell_type": "code",
   "execution_count": 3,
   "metadata": {},
   "outputs": [],
   "source": [
    "def add_one(x):\n",
    "    return x + 1"
   ]
  },
  {
   "cell_type": "code",
   "execution_count": 4,
   "metadata": {},
   "outputs": [
    {
     "name": "stdout",
     "output_type": "stream",
     "text": [
      "Full name: sanjay agarwal\n"
     ]
    }
   ],
   "source": [
    "full_name = lambda first, last: f'Full name: {first} {last}'\n",
    "yy = full_name('sanjay', 'agarwal')\n",
    "print(yy)"
   ]
  },
  {
   "cell_type": "code",
   "execution_count": 5,
   "metadata": {},
   "outputs": [
    {
     "name": "stdout",
     "output_type": "stream",
     "text": [
      "5\n"
     ]
    }
   ],
   "source": [
    "addxy = lambda x, y: x + y\n",
    "yy = addxy(2,3)\n",
    "print(yy)"
   ]
  },
  {
   "cell_type": "code",
   "execution_count": 6,
   "metadata": {},
   "outputs": [
    {
     "name": "stdout",
     "output_type": "stream",
     "text": [
      "6\n"
     ]
    }
   ],
   "source": [
    "yy = (lambda x, y, z: x + y + z)(1, 2, 3)\n",
    "print(yy)"
   ]
  },
  {
   "cell_type": "code",
   "execution_count": 7,
   "metadata": {},
   "outputs": [],
   "source": [
    "def decr(x):\n",
    "    return (x-1)"
   ]
  },
  {
   "cell_type": "code",
   "execution_count": 8,
   "metadata": {},
   "outputs": [
    {
     "name": "stdout",
     "output_type": "stream",
     "text": [
      "30\n"
     ]
    }
   ],
   "source": [
    "aaa = [1,2,3,4,5]\n",
    "sumx = (lambda x: sum(x) + max(x) + min(x) + decr(10))(aaa)\n",
    "print(sumx)"
   ]
  },
  {
   "cell_type": "code",
   "execution_count": 11,
   "metadata": {},
   "outputs": [
    {
     "name": "stdout",
     "output_type": "stream",
     "text": [
      "44\n"
     ]
    }
   ],
   "source": [
    "sumx = (lambda x: sum(x) + max(x) + min(x) + decr(10))(range(1,10,2))\n",
    "print(sumx)"
   ]
  },
  {
   "cell_type": "code",
   "execution_count": 9,
   "metadata": {},
   "outputs": [
    {
     "name": "stdout",
     "output_type": "stream",
     "text": [
      "Calling function 'decorated_function'\n",
      "With argument '('new python is 3.8',)'\n"
     ]
    }
   ],
   "source": [
    "def some_decorator(f):\n",
    "    def wraps(*args):\n",
    "        print(f\"Calling function '{f.__name__}'\")\n",
    "        return f(args)\n",
    "    return wraps\n",
    "\n",
    "@some_decorator\n",
    "def decorated_function(x):\n",
    "    print(f\"With argument '{x}'\")\n",
    "\n",
    "decorated_function(\"new python is 3.8\")"
   ]
  },
  {
   "cell_type": "code",
   "execution_count": 10,
   "metadata": {},
   "outputs": [
    {
     "name": "stdout",
     "output_type": "stream",
     "text": [
      "[TRACE] func: add_two, args: (3,), kwargs: {}\n",
      "[TRACE] func: <lambda>, args: (3,), kwargs: {}\n",
      "9\n"
     ]
    }
   ],
   "source": [
    "# Defining a decorator\n",
    "def trace(f):\n",
    "    def wrap(*args, **kwargs):\n",
    "        print(f\"[TRACE] func: {f.__name__}, args: {args}, kwargs: {kwargs}\")\n",
    "        return f(*args, **kwargs)\n",
    "\n",
    "    return wrap\n",
    "\n",
    "# Applying decorator to a function\n",
    "@trace\n",
    "def add_two(x):\n",
    "    return x + 2\n",
    "\n",
    "# Calling the decorated function\n",
    "add_two(3)\n",
    "\n",
    "# Applying decorator to a lambda\n",
    "print((trace(lambda x: x ** 2))(3))"
   ]
  },
  {
   "cell_type": "code",
   "execution_count": null,
   "metadata": {},
   "outputs": [],
   "source": []
  }
 ],
 "metadata": {
  "kernelspec": {
   "display_name": "Python 3",
   "language": "python",
   "name": "python3"
  },
  "language_info": {
   "codemirror_mode": {
    "name": "ipython",
    "version": 3
   },
   "file_extension": ".py",
   "mimetype": "text/x-python",
   "name": "python",
   "nbconvert_exporter": "python",
   "pygments_lexer": "ipython3",
   "version": "3.7.4"
  }
 },
 "nbformat": 4,
 "nbformat_minor": 2
}
