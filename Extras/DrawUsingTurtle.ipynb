{
 "cells": [
  {
   "cell_type": "code",
   "execution_count": null,
   "metadata": {},
   "outputs": [],
   "source": [
    "import turtle\n",
    "import random"
   ]
  },
  {
   "cell_type": "code",
   "execution_count": null,
   "metadata": {},
   "outputs": [],
   "source": [
    "# global vars\n",
    "BRANCH_COUNT = 7\n",
    "TURN_ANGLE = 10\n",
    "INITIAL_BRANCH_SIZE = 100\n",
    "SHRINK_FACTOR = 0.8\n",
    "\n",
    "SPEED = 75\n",
    "UP = 90"
   ]
  },
  {
   "cell_type": "code",
   "execution_count": null,
   "metadata": {},
   "outputs": [],
   "source": [
    "def get_color(depth):\n",
    "    if BRANCH_COUNT - depth < 3:\n",
    "        return 'brown'\n",
    "    else:\n",
    "        return 'green'"
   ]
  },
  {
   "cell_type": "code",
   "execution_count": null,
   "metadata": {},
   "outputs": [],
   "source": [
    "def draw_tree(size, depth):\n",
    "    if depth >= 1:\n",
    "        if random.random() > 0.33:\n",
    "            turt.width(depth)\n",
    "            turt.color(get_color(depth))\n",
    "            \n",
    "            turt.forward(size)\n",
    "            turt.right(TURN_ANGLE)\n",
    "            draw_tree(size*SHRINK_FACTOR, depth-1)\n",
    "            turt.right(TURN_ANGLE)\n",
    "            draw_tree(size*SHRINK_FACTOR, depth-1)\n",
    "            \n",
    "            turt.left(3*TURN_ANGLE)\n",
    "            draw_tree(size*SHRINK_FACTOR, depth-1)\n",
    "            turt.left(TURN_ANGLE)\n",
    "            draw_tree(size*SHRINK_FACTOR, depth-1)\n",
    "            \n",
    "            turt.right(2*TURN_ANGLE)\n",
    "            turt.color(get_color(depth))\n",
    "            turt.backward(size)"
   ]
  },
  {
   "cell_type": "code",
   "execution_count": null,
   "metadata": {},
   "outputs": [],
   "source": [
    "random.seed(46)\n",
    "turt = turtle.Turtle()\n",
    "\n",
    "turt.setheading(UP)\n",
    "turt.speed(SPEED)\n",
    "turtle.colormode(255)\n",
    "\n",
    "draw_tree(INITIAL_BRANCH_SIZE, BRANCH_COUNT)\n",
    "turtle.done()"
   ]
  },
  {
   "cell_type": "code",
   "execution_count": null,
   "metadata": {},
   "outputs": [],
   "source": [
    "# Flower"
   ]
  },
  {
   "cell_type": "code",
   "execution_count": null,
   "metadata": {},
   "outputs": [],
   "source": [
    "import turtle\n",
    "turtle.color(\"red\",\"yellow\")\n",
    "turtle.begin_fill()\n",
    "\n",
    "for i in range(50):\n",
    "    turtle.forward(300)\n",
    "    turtle.left(170)\n",
    "\n",
    "turtle.end_fill()\n",
    "turtle.done()"
   ]
  },
  {
   "cell_type": "code",
   "execution_count": null,
   "metadata": {},
   "outputs": [],
   "source": [
    "# Sqrt"
   ]
  },
  {
   "cell_type": "code",
   "execution_count": null,
   "metadata": {},
   "outputs": [],
   "source": [
    "import turtle\n",
    "import math\n",
    "import random\n",
    "\n",
    "bob = turtle.Turtle()\n",
    "turtle.colormode(255)\n",
    "bob.speed(10)\n",
    "\n",
    "for i in range(2000):\n",
    "    bob.forward(math.sqrt(i))\n",
    "    bob.left(i%180)\n",
    "\n",
    "turtle.done()"
   ]
  },
  {
   "cell_type": "code",
   "execution_count": null,
   "metadata": {},
   "outputs": [],
   "source": [
    "# Sinusoid"
   ]
  },
  {
   "cell_type": "code",
   "execution_count": null,
   "metadata": {},
   "outputs": [],
   "source": [
    "import turtle\n",
    "import math\n",
    "import random\n",
    "\n",
    "bob = turtle.Turtle()\n",
    "turtle.colormode(255)\n",
    "bob.speed(10)\n",
    "\n",
    "for i in range(2000):\n",
    "    bob.forward(10)\n",
    "    bob.left(math.sin(i/10)*25)\n",
    "    bob.left(20)\n",
    "\n",
    "turtle.done()"
   ]
  },
  {
   "cell_type": "code",
   "execution_count": null,
   "metadata": {},
   "outputs": [],
   "source": [
    "# Shape"
   ]
  },
  {
   "cell_type": "code",
   "execution_count": null,
   "metadata": {},
   "outputs": [],
   "source": [
    "import turtle\n",
    "\n",
    "bob = turtle.Turtle()\n",
    "\n",
    "bob.color(\"blue\", \"cyan\")\n",
    "\n",
    "# Square\n",
    "bob.begin_fill()\n",
    "bob.forward(100)\n",
    "bob.setheading(90)\n",
    "bob.forward(100)\n",
    "bob.setheading(180)\n",
    "bob.forward(100)\n",
    "bob.setheading(270)\n",
    "bob.forward(100)\n",
    "bob.end_fill()\n",
    "\n",
    "bob.penup()\n",
    "bob.setheading(270)\n",
    "bob.forward(120)\n",
    "bob.pendown()\n",
    "\n",
    "bob.begin_fill()\n",
    "bob.setheading(0)\n",
    "bob.forward(100)\n",
    "bob.setheading(90)\n",
    "bob.forward(100)\n",
    "bob.setheading(180)\n",
    "bob.forward(100)\n",
    "bob.setheading(270)\n",
    "bob.forward(100)\n",
    "bob.end_fill()\n",
    "\n",
    "turtle.done()"
   ]
  },
  {
   "cell_type": "code",
   "execution_count": null,
   "metadata": {},
   "outputs": [],
   "source": [
    "# Recursion"
   ]
  },
  {
   "cell_type": "code",
   "execution_count": null,
   "metadata": {},
   "outputs": [],
   "source": [
    "import turtle\n",
    "\n",
    "bob = turtle.Turtle()\n",
    "bob.getscreen().bgcolor(\"#994444\")\n",
    "bob.penup()\n",
    "bob.goto((-200,100))\n",
    "bob.pendown()\n",
    "\n",
    "def star(turtle, size):\n",
    "\tif size <= 10:\n",
    "\t\treturn\n",
    "\telse:\n",
    "\t\tturtle.begin_fill()\n",
    "\t\tfor i in range(5):\n",
    "\n",
    "\t\t\tturtle.forward(size)\n",
    "\t\t\tstar(turtle, size/3)\n",
    "\t\t\tturtle.left(216)\n",
    "\t\tturtle.end_fill()\n",
    "\n",
    "star(bob, 360)\n",
    "\n",
    "turtle.done()"
   ]
  }
 ],
 "metadata": {
  "kernelspec": {
   "display_name": "Python 3",
   "language": "python",
   "name": "python3"
  },
  "language_info": {
   "codemirror_mode": {
    "name": "ipython",
    "version": 3
   },
   "file_extension": ".py",
   "mimetype": "text/x-python",
   "name": "python",
   "nbconvert_exporter": "python",
   "pygments_lexer": "ipython3",
   "version": "3.7.4"
  }
 },
 "nbformat": 4,
 "nbformat_minor": 2
}
